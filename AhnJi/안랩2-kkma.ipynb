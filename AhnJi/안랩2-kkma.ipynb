{
 "cells": [
  {
   "cell_type": "code",
   "execution_count": 3,
   "metadata": {},
   "outputs": [],
   "source": [
    "from IPython.display import display\n",
    "import numpy as np\n",
    "import matplotlib.pyplot as plt\n",
    "import pandas as pd\n",
    "import mglearn\n",
    "plt.rcParams['axes.unicode_minus'] = False\n",
    "from sklearn.feature_extraction.text import TfidfVectorizer\n",
    "from sklearn.model_selection import train_test_split,GridSearchCV\n",
    "import konlpy\n",
    "import re\n",
    "from tqdm import tqdm\n",
    "import seaborn as sns\n",
    "from sklearn.linear_model import LogisticRegression\n",
    "from sklearn import metrics\n",
    "from sklearn.manifold import TSNE\n",
    "from sklearn.model_selection import cross_val_score\n",
    "from sklearn.ensemble import RandomForestClassifier\n",
    "import platform\n",
    "path = 'c:/Windows/Fonts/malgun.ttf'\n",
    "from matplotlib import font_manager, rc\n",
    "if platform.system() == 'Darwin':\n",
    "    rc('font', family='AppleGothic')\n",
    "elif platform.system() == 'Windows':\n",
    "    font_name = font_manager.FontProperties(fname=path).get_name()\n",
    "    rc('font', family=font_name)\n",
    "else:\n",
    "    print('Unknown system... sorry~~~~~')"
   ]
  },
  {
   "cell_type": "code",
   "execution_count": 4,
   "metadata": {},
   "outputs": [],
   "source": [
    "data = pd.read_csv(\"안랩통합본.csv\",encoding='utf8')"
   ]
  },
  {
   "cell_type": "code",
   "execution_count": 5,
   "metadata": {},
   "outputs": [
    {
     "data": {
      "image/png": "[encoded data removed]",
      "text/plain": [
       "<Figure size 432x288 with 1 Axes>"
      ]
     },
     "metadata": {
      "needs_background": "light"
     },
     "output_type": "display_data"
    }
   ],
   "source": [
    "sns.countplot(data['up/down'], color='blue')  \n",
    "plt.show()"
   ]
  },
  {
   "cell_type": "code",
   "execution_count": 6,
   "metadata": {},
   "outputs": [],
   "source": [
    "kkoma = konlpy.tag.Kkma()"
   ]
  },
  {
   "cell_type": "code",
   "execution_count": 7,
   "metadata": {},
   "outputs": [],
   "source": [
    "my_text_clean = []\n",
    "for a_line in data['content']:\n",
    "    a_line = re.sub('\\d+',' ', a_line)           # 수치 스페이스로 대체.\n",
    "    a_line = re.sub('[-!?()&>~+.,▶◆ㆍ&+;=_#;=▲◇△■@⊙■※△★%▷→中小企業者: /◇<·”\"‘“’''\"]',' ',a_line)    # 특수문자 스페이스로 대체.\n",
    "    a_line = re.sub('\\n',' ',a_line)             # line return 스페이스로 대체.\n",
    "    a_line = re.sub('[\\[\\]]', ' ',a_line)        # 대괄호 스페이스로 대체.\n",
    "    a_line = re.sub('ㅜ|ㅠ', ' ', a_line)        # 단모음 스페이스로 대체.\n",
    "    a_line = re.sub('([a - zA - Z0 - 9_. + -] +@[a-zA-Z0-9-]+\\.[a-zA-Z0-9-.]+)', ' ', a_line)  # 이메일 제거\n",
    "    a_line = re.sub('[-= +,  # /\\?:^$.@*\\\"※~&%ㆍ!』\\\\‘|\\(\\)\\[\\]\\<\\>`\\'…》]',' ',a_line)  # 특수문자 스페이스로 대체.\n",
    "#    a_line = re.sub(no_meaning, ' ', a_line)     # 특별한 의미 없는 단어 스페이스로 대체.\n",
    "    a_line = re.sub('\\n', ' ', a_line)  # line return 스페이스로 대체.\n",
    "    a_line = re.sub('\\s+', ' ', a_line)          # 잉여 스페이즈 줄임.\n",
    "    my_text_clean += [a_line]   "
   ]
  },
  {
   "cell_type": "code",
   "execution_count": 8,
   "metadata": {},
   "outputs": [],
   "source": [
    "data['clear_content'] = my_text_clean"
   ]
  },
  {
   "cell_type": "code",
   "execution_count": 9,
   "metadata": {
    "scrolled": false
   },
   "outputs": [
    {
     "data": {
      "text/html": [
       "<div>\n",
       "<style scoped>\n",
       "    .dataframe tbody tr th:only-of-type {\n",
       "        vertical-align: middle;\n",
       "    }\n",
       "\n",
       "    .dataframe tbody tr th {\n",
       "        vertical-align: top;\n",
       "    }\n",
       "\n",
       "    .dataframe thead th {\n",
       "        text-align: right;\n",
       "    }\n",
       "</style>\n",
       "<table border=\"1\" class=\"dataframe\">\n",
       "  <thead>\n",
       "    <tr style=\"text-align: right;\">\n",
       "      <th></th>\n",
       "      <th>datetime</th>\n",
       "      <th>content</th>\n",
       "      <th>up/down</th>\n",
       "      <th>clear_content</th>\n",
       "    </tr>\n",
       "  </thead>\n",
       "  <tbody>\n",
       "    <tr>\n",
       "      <th>0</th>\n",
       "      <td>2018-12-18</td>\n",
       "      <td>■산업통상자원부 ◇과장급 전보 △전력진흥과장 박찬기 △구주통상과장 송주호 △자유무역...</td>\n",
       "      <td>0</td>\n",
       "      <td>산업통상자원부 과장급 전보 전력진흥과장 박찬기 구주통상과장 송주호 자유무역협정정책...</td>\n",
       "    </tr>\n",
       "    <tr>\n",
       "      <th>1</th>\n",
       "      <td>2018-12-18</td>\n",
       "      <td>스펙보다 실무 경험을 중시하는 요즘 채용시장에서 ‘인턴십’은 구직자의 업계에 대한 ...</td>\n",
       "      <td>0</td>\n",
       "      <td>스펙보다 실무 경험을 중시하는 요즘 채용시장에서 인턴십 은 구직자의 업계에 대한 열...</td>\n",
       "    </tr>\n",
       "    <tr>\n",
       "      <th>2</th>\n",
       "      <td>2018-12-18</td>\n",
       "      <td>■한국도로공사 ◇부처장급 △미래전략처 미래전략팀장 최세욱 △재무처 자금팀장 김기환 ...</td>\n",
       "      <td>0</td>\n",
       "      <td>한국도로공사 부처장급 미래전략처 미래전략팀장 최세욱 재무처 자금팀장 김기환 영업처...</td>\n",
       "    </tr>\n",
       "    <tr>\n",
       "      <th>3</th>\n",
       "      <td>2018-12-18</td>\n",
       "      <td>△승진&lt;부사장&gt;▷김기인 최고재무책임자(CFO)&lt;상무보&gt;▷안정보 글로벌사업본부장▷정청...</td>\n",
       "      <td>0</td>\n",
       "      <td>승진 부사장 김기인 최고재무책임자 CFO 상무보 안정보 글로벌사업본부장 정청환 엔...</td>\n",
       "    </tr>\n",
       "    <tr>\n",
       "      <th>4</th>\n",
       "      <td>2018-12-18</td>\n",
       "      <td>올해 하반기에도 국내 시장에는 다양한 신제품과 신기술이 쏟아졌다. 이들 신제품은 고...</td>\n",
       "      <td>0</td>\n",
       "      <td>올해 하반기에도 국내 시장에는 다양한 신제품과 신기술이 쏟아졌다 이들 신제품은 고객...</td>\n",
       "    </tr>\n",
       "    <tr>\n",
       "      <th>...</th>\n",
       "      <td>...</td>\n",
       "      <td>...</td>\n",
       "      <td>...</td>\n",
       "      <td>...</td>\n",
       "    </tr>\n",
       "    <tr>\n",
       "      <th>8852</th>\n",
       "      <td>2017-03-13</td>\n",
       "      <td>지난 1월 12일 8,050원였던 코스닥 상장사 DSR제강의 주가는 이달 10일 장...</td>\n",
       "      <td>1</td>\n",
       "      <td>지난 월 일 원였던 코스닥 상장사 DSR제강의 주가는 이달 일 장중 만 원까지 치솟...</td>\n",
       "    </tr>\n",
       "    <tr>\n",
       "      <th>8853</th>\n",
       "      <td>2015-05-29</td>\n",
       "      <td>팬택이 살아남기를 바랐다. 모두들 힘들 거라고 예상했고 솔직히 나 역시 같은 생각이...</td>\n",
       "      <td>1</td>\n",
       "      <td>팬택이 살아남기를 바랐다 모두들 힘들 거라고 예상했고 솔직히 나 역시 같은 생각이었...</td>\n",
       "    </tr>\n",
       "    <tr>\n",
       "      <th>8854</th>\n",
       "      <td>2013-08-16</td>\n",
       "      <td>게임 사이트에서 카드 결제를 할 경우 소액이라도 공인인증서와 휴대폰 인증을 모두 받...</td>\n",
       "      <td>1</td>\n",
       "      <td>게임 사이트에서 카드 결제를 할 경우 소액이라도 공인인증서와 휴대폰 인증을 모두 받...</td>\n",
       "    </tr>\n",
       "    <tr>\n",
       "      <th>8855</th>\n",
       "      <td>2011-12-26</td>\n",
       "      <td>미술평론가와 큐레이터들이 '향후 국내외 활동이 가장 기대되는 젊은 작가'로 미디어 ...</td>\n",
       "      <td>1</td>\n",
       "      <td>미술평론가와 큐레이터들이 향후 국내외 활동이 가장 기대되는 젊은 작가 로 미디어 아...</td>\n",
       "    </tr>\n",
       "    <tr>\n",
       "      <th>8856</th>\n",
       "      <td>2011-09-07</td>\n",
       "      <td>안철수연구소가 6일부터 하반기 신입사원 50여명을 공개 채용한다. 이번 공채는 19...</td>\n",
       "      <td>0</td>\n",
       "      <td>안철수연구소가 일부터 하반기 신입사원 여명을 공개 채용한다 이번 공채는 년회사 설립...</td>\n",
       "    </tr>\n",
       "  </tbody>\n",
       "</table>\n",
       "<p>8857 rows × 4 columns</p>\n",
       "</div>"
      ],
      "text/plain": [
       "        datetime                                            content  up/down  \\\n",
       "0     2018-12-18  ■산업통상자원부 ◇과장급 전보 △전력진흥과장 박찬기 △구주통상과장 송주호 △자유무역...        0   \n",
       "1     2018-12-18  스펙보다 실무 경험을 중시하는 요즘 채용시장에서 ‘인턴십’은 구직자의 업계에 대한 ...        0   \n",
       "2     2018-12-18  ■한국도로공사 ◇부처장급 △미래전략처 미래전략팀장 최세욱 △재무처 자금팀장 김기환 ...        0   \n",
       "3     2018-12-18  △승진<부사장>▷김기인 최고재무책임자(CFO)<상무보>▷안정보 글로벌사업본부장▷정청...        0   \n",
       "4     2018-12-18  올해 하반기에도 국내 시장에는 다양한 신제품과 신기술이 쏟아졌다. 이들 신제품은 고...        0   \n",
       "...          ...                                                ...      ...   \n",
       "8852  2017-03-13  지난 1월 12일 8,050원였던 코스닥 상장사 DSR제강의 주가는 이달 10일 장...        1   \n",
       "8853  2015-05-29  팬택이 살아남기를 바랐다. 모두들 힘들 거라고 예상했고 솔직히 나 역시 같은 생각이...        1   \n",
       "8854  2013-08-16  게임 사이트에서 카드 결제를 할 경우 소액이라도 공인인증서와 휴대폰 인증을 모두 받...        1   \n",
       "8855  2011-12-26  미술평론가와 큐레이터들이 '향후 국내외 활동이 가장 기대되는 젊은 작가'로 미디어 ...        1   \n",
       "8856  2011-09-07  안철수연구소가 6일부터 하반기 신입사원 50여명을 공개 채용한다. 이번 공채는 19...        0   \n",
       "\n",
       "                                          clear_content  \n",
       "0      산업통상자원부 과장급 전보 전력진흥과장 박찬기 구주통상과장 송주호 자유무역협정정책...  \n",
       "1     스펙보다 실무 경험을 중시하는 요즘 채용시장에서 인턴십 은 구직자의 업계에 대한 열...  \n",
       "2      한국도로공사 부처장급 미래전략처 미래전략팀장 최세욱 재무처 자금팀장 김기환 영업처...  \n",
       "3      승진 부사장 김기인 최고재무책임자 CFO 상무보 안정보 글로벌사업본부장 정청환 엔...  \n",
       "4     올해 하반기에도 국내 시장에는 다양한 신제품과 신기술이 쏟아졌다 이들 신제품은 고객...  \n",
       "...                                                 ...  \n",
       "8852  지난 월 일 원였던 코스닥 상장사 DSR제강의 주가는 이달 일 장중 만 원까지 치솟...  \n",
       "8853  팬택이 살아남기를 바랐다 모두들 힘들 거라고 예상했고 솔직히 나 역시 같은 생각이었...  \n",
       "8854  게임 사이트에서 카드 결제를 할 경우 소액이라도 공인인증서와 휴대폰 인증을 모두 받...  \n",
       "8855  미술평론가와 큐레이터들이 향후 국내외 활동이 가장 기대되는 젊은 작가 로 미디어 아...  \n",
       "8856  안철수연구소가 일부터 하반기 신입사원 여명을 공개 채용한다 이번 공채는 년회사 설립...  \n",
       "\n",
       "[8857 rows x 4 columns]"
      ]
     },
     "execution_count": 9,
     "metadata": {},
     "output_type": "execute_result"
    }
   ],
   "source": [
    "data"
   ]
  },
  {
   "cell_type": "code",
   "execution_count": 10,
   "metadata": {},
   "outputs": [],
   "source": [
    "with open('stopword.txt', 'r',encoding='utf8') as f:\n",
    "    word = f.read()\n",
    "stopword = word.splitlines()"
   ]
  },
  {
   "cell_type": "code",
   "execution_count": 11,
   "metadata": {},
   "outputs": [],
   "source": [
    "tfidf = TfidfVectorizer(tokenizer=kkoma.nouns, max_features = 1000, min_df = 100, max_df = 0.7, stop_words =stopword )"
   ]
  },
  {
   "cell_type": "code",
   "execution_count": 12,
   "metadata": {},
   "outputs": [
    {
     "name": "stderr",
     "output_type": "stream",
     "text": [
      "D:\\python2020\\lib\\site-packages\\sklearn\\feature_extraction\\text.py:385: UserWarning: Your stop_words may be inconsistent with your preprocessing. Tokenizing the stop words generated tokens ['간에', '개의', '거', '걱', '견지', '결과', '결론', '경', '경닷컴', '경제', '경제신문', '경향', '고려', '곳', '공동', '공사', '관', '관계', '관련', '구체적', '구토', '국민', '그중', '근거', '기대', '기업', '기점', '기준', '김', '까닭', '나머지', '남', '내일', '년도', '누', '닷컴', '대로', '데', '데일리', '도달', '도착', '동시', '동아', '됏', '따름', '때문', '라', '라도', '랏', '마라', '만', '만이', '만큼', '말고', '머니', '메', '메쓰겁', '무엇때문', '문화', '바', '밖', '반대', '방면', '번째', '본대', '부류', '불문', '뿐', '사람', '산', '상대적', '생각', '생명', '서술', '서울', '세계', '수', '수록', '시작', '시초', '쓰겁', '아래', '아무', '아시아', '앞', '어기', '연', '연관', '연합', '옆', '외', '우', '위', '윗', '으', '은행', '의거', '의지', '이', '이드', '이외', '이용', '이유', '인사', '인삼', '일반적', '일보', '임', '입각', '입장', '점', '정도', '제외', '조', '조선', '종합', '주저', '줄', '중', '중소기업', '중앙', '중의', '즈음', '지', '지경', '쪽', '차', '총적', '칼', '켠', '터', '텍스', '투데이', '투자', '파이낸셜', '편', '하구', '하면', '한국', '한국전', '항공', '항목', '해', '헤럴드', '형식', '후', '흥국', '힘'] not in stop_words.\n",
      "  'stop_words.' % sorted(inconsistent))\n"
     ]
    }
   ],
   "source": [
    "vectorizer =tfidf.fit_transform(data['clear_content'])"
   ]
  },
  {
   "cell_type": "code",
   "execution_count": 13,
   "metadata": {
    "scrolled": true
   },
   "outputs": [
    {
     "name": "stdout",
     "output_type": "stream",
     "text": [
      "['가격', '가격제한폭', '가기', '가능', '가능성', '가량', '가스', '가운데', '가입', '가지', '가치', '가희', '간', '감사', '감소', '감염', '강', '강세', '강준수', '강화', '개', '개발', '개선', '개월', '개인', '개인정보', '개인투자자', '개최', '거래', '거래량', '거래소', '거래일', '거사', '건', '건설', '검사', '검색', '검증', '게임', '결과', '결정', '결제', '경', '경기', '경닷컴', '경영', '경우', '경쟁', '경제', '경험', '계속', '계약', '계좌', '계획', '고', '고객', '고려', '고민', '곳', '공개', '공격', '공격자', '공공', '공급', '공동', '공시', '공식', '공유', '과거', '과정', '과학', '관', '관계', '관계자', '관련', '관련주', '관리', '관심', '관제', '광림', '광물', '교수', '교육', '구', '구독', '구독신청', '구매', '구성', '구조', '구축', '국', '국가', '국내', '국민', '국제', '국회', '군', '권', '권치중', '규', '규모', '그동안', '그룹', '글', '글로벌', '금', '금리', '금속', '금지', '금호', '급', '급등', '급락', '기', '기간', '기계', '기관', '기기', '기능', '기대', '기대감', '기록', '기반', '기본', '기사', '기사구매', '기술', '기아', '기아차', '기업', '기자', '기존', '기준', '기회', '기획', '길', '김', '김홍선', '나라', '낙폭', '날', '남', '내', '내림세', '내부', '내용', '네오', '네오이녹스', '네이버', '네트', '네트워크', '넥', '넷', '년간', '노', '노력', '노베이션', '논란', '누리', '누리당', '눈', '뉴', '뉴욕', '뉴욕증시', '다양', '다운로드', '다이스', '단기', '달', '달러', '달성', '담당', '담배', '닷컴', '당', '당부', '당시', '대', '대규모', '대부분', '대비', '대상', '대선', '대선후보', '대신', '대응', '대책', '대통령', '대표', '대표이사', '대표적', '대학', '대학원', '대한', '대형', '덕', '데', '데이터', '데코앤', '도', '도움', '도입', '돈', '돌파', '동', '동기', '동반', '동서', '동시', '동양', '뒤', '드로', '등락', '등록', '등장', '디', '디지털', '디지털컨텐츠', '때문', '라', '랜', '레', '리', '마감', '마련', '마켓', '만', '만원', '만주', '만큼', '말', '매도', '매매', '매물', '매수', '매수세', '매수우위', '매일', '매일경제', '매체', '매출', '매출액', '멀티미디어', '메드', '메디', '메시지', '메이드', '며', '면', '명', '명의', '명이', '모든', '모바일', '모비스', '모습', '모크스', '목', '목재', '목적', '목표', '무단', '무단전재', '무료', '무료방송', '무소속', '문', '문자', '문재인', '문제', '문화', '물산', '믈', '믈멀티미디어', '미', '미국', '미디어', '미래', '미래산업', '민', '민주', '민주당', '민주통합', '바', '바른', '바른전자', '바이오', '바탕', '박', '박근', '박근혜', '박영식대표', '밖', '반대', '반도체', '반등', '반면', '발견', '발생', '발전', '발표', '방', '방문', '방법', '방송', '방송서비스', '방송시청', '방식', '방안', '방어', '방지', '방향', '배', '배포', '백신', '밴드', '버전', '번', '법인', '베스트', '베이', '베이스', '벤처', '변경', '변동', '변화', '별도', '보도', '보안', '보안업체', '보유', '보합', '보합세', '보험', '보호', '복', '복제', '본격적', '본부장', '본인', '부', '부담', '부문', '부분', '부산', '부진', '부품', '북', '분', '분기', '분류', '분석', '분야', '브로드', '브로드밴드', '비', '비결', '비교', '비금속', '비금속광물', '비중', '비차익', '비차익거래', '빅', '뿐', '사', '사건', '사고', '사람', '사례', '사료', '사실', '사업', '사용', '사용자', '사이', '사이버', '사이트', '사인', '사자', '사전', '사진', '사회', '사흘', '산', '산업', '삼성', '삼성생명', '삼성전자', '상', '상담', '상대적', '상무', '상승', '상승률', '상승세', '상승폭', '상위', '상위종목', '상장', '상태', '상품', '상한가', '상황', '새', '생각', '생명', '생활', '서버', '서비스', '서울', '서울대', '서울반도체', '석', '석진', '선', '선거', '선물', '선언', '선정', '선택', '설립', '설명', '설정', '설치', '섬유', '성', '성공', '성과', '성장', '세', '세계', '세우', '세우글로벌', '센터', '셀', '셀트리', '셀트리온', '셈', '션', '소', '소개', '소식', '소폭', '소프트', '소프트웨어', '속', '손', '솔', '솔루션', '솔루텍', '송', '쇼핑', '수', '수급', '수요', '수익', '수익률', '수준', '수행', '순', '순매도', '순매수', '순이익', '스마트', '스마트폰', '스틸', '스틸플라워', '시', '시가', '시가총액', '시대', '시도', '시스템', '시작', '시장', '시점', '시청', '시큐리티', '식', '신', '신규', '신용', '신청', '신한', '신한지주', '실', '실시', '실시간', '실적', '실제', '실행', '실현', '심리', '쌍방울', '써니', '써니전자', '씨', '씨씨에스', '아래', '악성', '악성코드', '안내', '안랩', '안전', '안철수', '안철수연구소', '암', '암거사', '앞', '앤', '앱', '야간', '약', '약세', '약품', '어치', '언급', '언론', '업', '업계', '업데이트', '업무', '업종', '업종별', '업체', '에스', '에스에프에이', '에스엠', '에이', '에이텍', '에이텍티', '에프', '엔', '엘', '엠', '여명', '역량', '역할', '연', '연결', '연구', '연구소', '연구원', '연속', '연합', '영', '영식', '영업', '영업이익', '영역', '영진', '영향', '예방', '예상', '예정', '오늘', '오락', '오름세', '오쇼핑', '오전', '오픈', '오후', '온', '온라인', '올', '올해', '완화', '외', '외국인', '외부', '외환', '요구', '우', '우려', '우성', '우수', '우위', '운', '운송', '운송장비', '운수', '운수창고', '운영', '움직임', '원장', '웨어', '웹', '웹사이트', '위', '위기', '위메이드', '위원', '위원회', '위즈코프', '위험', '위협', '유', '유가', '유럽', '유로', '유명', '유입', '유지', '유출', '유통', '유포', '윤', '융합', '융합과학기술대학원', '은', '은행', '음식료', '의견', '의료', '의료정밀', '의류', '의미', '의심', '의약품', '의원', '의장', '의혹', '이', '이날', '이녹스', '이달', '이동', '이드', '이름', '이벤트', '이사', '이사회', '이슈', '이슈종목', '이스트', '이용', '이용자', '이유', '이익', '이전', '이틀', '이후', '인', '인기', '인력', '인사', '인수', '인식', '인증', '인터', '인터넷', '인터플렉스', '인프라', '일간', '일경', '일경산업개발', '일반', '일반전기', '일반전기전자', '일본', '일부', '일야', '임', '입장', '자금', '자동', '자료', '자리', '자사', '자산', '자체', '작용', '장', '장비', '장중', '장진호', '장진호대표', '재', '재영', '재인', '적용', '적인', '전', '전경운', '전기', '전기전자', '전날', '전년', '전략', '전력', '전망', '전문', '전문가', '전용', '전일', '전일대비', '전재', '전체', '전화', '전환', '점', '접근', '접속', '정', '정도', '정밀', '정보', '정보기기', '정보통신', '정부', '정상', '정원', '정원석대표', '정책', '정치', '제공', '제기', '제도', '제시', '제약', '제외', '제이', '제조', '제품', '제한', '젠', '젬백스', '조', '조사', '조선', '조세', '조언', '조정', '조직', '조치', '존', '종', '종목', '종이', '종이목재', '종합', '주', '주가', '주도', '주목', '주식', '주요', '주의', '주인', '주장', '주주', '주체', '주최', '준비', '준수', '중', '중공업', '중국', '중심', '중앙', '중요', '중이', '중인', '즈', '증가', '증권사', '증시', '지', '지금', '지난달', '지난해', '지능', '지분', '지속', '지속적', '지수', '지수선물', '지역', '지원', '지적', '지주', '지지', '지표', '직', '직원', '진균', '진단', '진입', '진출', '진행', '진흥원', '집계', '집중', '차', '차단', '차이', '차익', '차익거래', '차지', '참가', '참석', '참여', '창', '창고', '창업', '창조', '채', '책임', '처음', '철', '철강', '철강금속', '철수', '체계', '체제', '초', '초반', '총', '총괄', '총액', '최', '최고', '최근', '최대', '최신', '최초', '추가', '추세', '추진', '추천', '추천주', '출마', '출발', '출시', '출신', '출판', '출판매체복제', '취약점', '측', '치중', '카', '캐스트', '컨설팅', '컨텐츠', '컴', '컴퓨터', '컴퓨터서비스', '케이', '코', '코다', '코다코', '코드', '코리아', '코스', '코스닥', '코스닥시장', '코스닥지수', '코스피', '코아스', '코어', '코프', '콘텐츠', '큐', '크스', '클라우드', '클릭', '키', '탁', '탐지', '터', '테마', '테마주', '테크', '텍', '텔레콤', '토', '통신', '통신서비스', '통신장비', '통합', '통화', '투', '투자', '투자가', '투자자', '트리', '특별', '특수', '특정', '특징', '티', '팀', '팀장', '파라', '파라다이스', '파악', '파일', '판교', '판단', '판매', '팔자', '퍼스텍', '평가', '평균', '포', '포스', '포스코', '포인트', '포털', '포털사이트', '포함', '폭', '폰', '표', '푸른', '푸른기술', '풀이', '퓨', '프', '프라이드', '프로', '프로그램', '플라워', '플랫폼', '플러스', '플렉스', '피', '피해', '필요', '필요하다', '하락', '하락세', '하루', '하이', '하이닉스', '하이트론', '하한가', '학교', '한', '한국', '한국거래소', '한국경제', '한편', '해', '해결', '해당', '해외', '해커', '해킹', '핵심', '행보', '행사', '행위', '향후', '헤스본', '혁신', '현', '현대', '현대모비스', '현대중공업', '현대차', '현장', '현재', '현지', '현지시간', '협력', '협회', '형', '형태', '혜', '호', '혼', '혼조세', '홀', '홈', '홈캐스트', '홈페이지', '홍', '화학', '확대', '확보', '확산', '확인', '환경', '환율', '활동', '활용', '황', '회', '회복', '회사', '회원', '회의', '회장', '효과', '후', '후보', '훈', '흐름']\n"
     ]
    }
   ],
   "source": [
    "print(tfidf.get_feature_names())"
   ]
  },
  {
   "cell_type": "code",
   "execution_count": null,
   "metadata": {},
   "outputs": [],
   "source": []
  },
  {
   "cell_type": "code",
   "execution_count": 14,
   "metadata": {},
   "outputs": [],
   "source": [
    "X= vectorizer"
   ]
  },
  {
   "cell_type": "code",
   "execution_count": 15,
   "metadata": {},
   "outputs": [
    {
     "data": {
      "text/plain": [
       "(8857, 1000)"
      ]
     },
     "execution_count": 15,
     "metadata": {},
     "output_type": "execute_result"
    }
   ],
   "source": [
    "X.shape"
   ]
  },
  {
   "cell_type": "code",
   "execution_count": 16,
   "metadata": {},
   "outputs": [],
   "source": [
    "Y=data.loc[:, 'up/down'].values"
   ]
  },
  {
   "cell_type": "code",
   "execution_count": 17,
   "metadata": {},
   "outputs": [],
   "source": [
    "x_train, x_test, y_train, y_test = train_test_split(X, Y, test_size=0.25, random_state=123)"
   ]
  },
  {
   "cell_type": "code",
   "execution_count": 18,
   "metadata": {},
   "outputs": [
    {
     "name": "stdout",
     "output_type": "stream",
     "text": [
      "Logistic regression accuracy : 0.605\n"
     ]
    }
   ],
   "source": [
    "LR = LogisticRegression()\n",
    "LR.fit(x_train, y_train)\n",
    "Y_pred = LR.predict(x_test)\n",
    "print( \"Logistic regression accuracy : \" + str(np.round(metrics.accuracy_score(y_test,Y_pred),3)))"
   ]
  },
  {
   "cell_type": "code",
   "execution_count": 19,
   "metadata": {},
   "outputs": [
    {
     "name": "stdout",
     "output_type": "stream",
     "text": [
      "로지스틱 회귀 교차검증 점수 : 0.499605\n"
     ]
    }
   ],
   "source": [
    "score = cross_val_score(LR,X,Y)\n",
    "print('로지스틱 회귀 교차검증 점수 : {:2f}'.format(score.mean()))"
   ]
  },
  {
   "cell_type": "code",
   "execution_count": null,
   "metadata": {},
   "outputs": [],
   "source": []
  },
  {
   "cell_type": "code",
   "execution_count": 20,
   "metadata": {},
   "outputs": [
    {
     "name": "stdout",
     "output_type": "stream",
     "text": [
      "랜덤포레스트 교차검증 점수 : 0.503557\n"
     ]
    }
   ],
   "source": [
    "forest = RandomForestClassifier(n_estimators=30)\n",
    "score1 = cross_val_score(forest,X,Y )\n",
    "print('랜덤포레스트 교차검증 점수 : {:2f}'.format(score1.mean()))"
   ]
  },
  {
   "cell_type": "code",
   "execution_count": 21,
   "metadata": {},
   "outputs": [
    {
     "name": "stdout",
     "output_type": "stream",
     "text": [
      "Random Forest best n_estimator : 42\n",
      "Random Forest best max_depth : 9\n",
      "Random Forest best min_samples_leaf : 14\n"
     ]
    }
   ],
   "source": [
    "n_estimators_grid = np.arange(20, 50,2)\n",
    "depth_grid = np.arange(1, 10)\n",
    "min_samples_leaf_grid = np.arange(10,21,2)\n",
    "parameters = {'n_estimators': n_estimators_grid, 'max_depth': depth_grid, 'min_samples_leaf':min_samples_leaf_grid}\n",
    "gridCV = GridSearchCV(RandomForestClassifier(), param_grid=parameters, cv=10, n_jobs=-1)\n",
    "gridCV.fit(x_train, y_train)\n",
    "best_n_estim = gridCV.best_params_['n_estimators']\n",
    "best_depth = gridCV.best_params_['max_depth']\n",
    "best_min_samples_leaf = gridCV.best_params_['min_samples_leaf']\n",
    "print(\"Random Forest best n_estimator : \" + str(best_n_estim))\n",
    "print(\"Random Forest best max_depth : \" + str(best_depth))\n",
    "print(\"Random Forest best min_samples_leaf : \" + str(best_min_samples_leaf))"
   ]
  },
  {
   "cell_type": "code",
   "execution_count": 22,
   "metadata": {},
   "outputs": [
    {
     "name": "stdout",
     "output_type": "stream",
     "text": [
      "Random Forest best accuracy : 0.589\n"
     ]
    }
   ],
   "source": [
    "RF_best = RandomForestClassifier(n_estimators=30,max_depth=best_depth,min_samples_leaf=best_min_samples_leaf,random_state=123)\n",
    "RF_best.fit(x_train, y_train)\n",
    "Y_pred = RF_best.predict(x_test)\n",
    "print( \"Random Forest best accuracy : \" + str(np.round(metrics.accuracy_score(y_test,Y_pred),3)))"
   ]
  },
  {
   "cell_type": "code",
   "execution_count": 23,
   "metadata": {},
   "outputs": [
    {
     "name": "stdout",
     "output_type": "stream",
     "text": [
      "Random Forest best accuracy : 0.599\n"
     ]
    }
   ],
   "source": [
    "RF_best = RandomForestClassifier(n_estimators=best_n_estim,max_depth=best_depth,min_samples_leaf=best_min_samples_leaf,random_state=123)\n",
    "RF_best.fit(x_train, y_train)\n",
    "Y_pred = RF_best.predict(x_test)\n",
    "print( \"Random Forest best accuracy : \" + str(np.round(metrics.accuracy_score(y_test,Y_pred),3)))"
   ]
  },
  {
   "cell_type": "code",
   "execution_count": null,
   "metadata": {},
   "outputs": [],
   "source": []
  },
  {
   "cell_type": "code",
   "execution_count": null,
   "metadata": {},
   "outputs": [],
   "source": []
  },
  {
   "cell_type": "code",
   "execution_count": null,
   "metadata": {},
   "outputs": [],
   "source": []
  },
  {
   "cell_type": "code",
   "execution_count": null,
   "metadata": {},
   "outputs": [],
   "source": []
  },
  {
   "cell_type": "code",
   "execution_count": null,
   "metadata": {},
   "outputs": [],
   "source": []
  },
  {
   "cell_type": "code",
   "execution_count": null,
   "metadata": {},
   "outputs": [],
   "source": []
  },
  {
   "cell_type": "code",
   "execution_count": 9,
   "metadata": {},
   "outputs": [],
   "source": [
    "#파이썬 진행바\n",
    "from tqdm import tqdm"
   ]
  },
  {
   "cell_type": "code",
   "execution_count": 11,
   "metadata": {},
   "outputs": [
    {
     "name": "stderr",
     "output_type": "stream",
     "text": [
      "100%|████████████████████████████████████████████████████████████████████████████| 12000/12000 [07:51<00:00, 25.44it/s]\n"
     ]
    }
   ],
   "source": [
    "temp=[]\n",
    "text = list(data['clear_content'])\n",
    "for i in tqdm(range(len(text))):\n",
    "    temp_X = []\n",
    "    temp_X = okt.morphs(text[i], stem=True) # 토큰화\n",
    "    temp_X = [word for word in temp_X if not word in stopword] # 불용어 제거\n",
    "    temp_X = [word for word in temp_X if len(word) > 1]\n",
    "    temp.append(temp_X)"
   ]
  },
  {
   "cell_type": "code",
   "execution_count": 12,
   "metadata": {},
   "outputs": [
    {
     "data": {
      "text/plain": [
       "12000"
      ]
     },
     "execution_count": 12,
     "metadata": {},
     "output_type": "execute_result"
    }
   ],
   "source": [
    "len(text)"
   ]
  },
  {
   "cell_type": "code",
   "execution_count": 14,
   "metadata": {},
   "outputs": [],
   "source": [
    "data['tokenize_content'] = temp"
   ]
  },
  {
   "cell_type": "code",
   "execution_count": 15,
   "metadata": {},
   "outputs": [
    {
     "data": {
      "text/html": [
       "<div>\n",
       "<style scoped>\n",
       "    .dataframe tbody tr th:only-of-type {\n",
       "        vertical-align: middle;\n",
       "    }\n",
       "\n",
       "    .dataframe tbody tr th {\n",
       "        vertical-align: top;\n",
       "    }\n",
       "\n",
       "    .dataframe thead th {\n",
       "        text-align: right;\n",
       "    }\n",
       "</style>\n",
       "<table border=\"1\" class=\"dataframe\">\n",
       "  <thead>\n",
       "    <tr style=\"text-align: right;\">\n",
       "      <th></th>\n",
       "      <th>datetime</th>\n",
       "      <th>content</th>\n",
       "      <th>up/down</th>\n",
       "      <th>clear_content</th>\n",
       "      <th>tokenize_content</th>\n",
       "    </tr>\n",
       "  </thead>\n",
       "  <tbody>\n",
       "    <tr>\n",
       "      <th>0</th>\n",
       "      <td>2019-04-18</td>\n",
       "      <td>[머니투데이 창조기획팀 이동오 기자] [글로벌 여행 액티비티 예약 플랫폼 와그(WA...</td>\n",
       "      <td>0</td>\n",
       "      <td>머니투데이 창조기획팀 이동오 기자 글로벌 여행 액티비티 예약 플랫폼 와그 WAUG...</td>\n",
       "      <td>[머니투데이, 창조, 기획, 동오, 기자, 글로벌, 여행, 티비, 예약, 플랫폼, ...</td>\n",
       "    </tr>\n",
       "    <tr>\n",
       "      <th>1</th>\n",
       "      <td>2019-04-18</td>\n",
       "      <td>IBK기업은행은 인도 뉴델리 소재 IIT(Indian Institute of Tec...</td>\n",
       "      <td>0</td>\n",
       "      <td>IBK기업은행은 인도 뉴델리 소재 IIT Indian Institute of Tec...</td>\n",
       "      <td>[IBK, 기업은행, 인도, 뉴델리, 소재, IIT, Indian, Institut...</td>\n",
       "    </tr>\n",
       "    <tr>\n",
       "      <th>2</th>\n",
       "      <td>2019-04-18</td>\n",
       "      <td>[머니투데이 박광범 기자] 최성재 IBK기업으행 글로벌사업부 본부장(왼쪽)과 산지브...</td>\n",
       "      <td>0</td>\n",
       "      <td>머니투데이 박광범 기자 최성재 IBK기업으행 글로벌사업부 본부장 왼쪽 과 산지브 ...</td>\n",
       "      <td>[머니투데이, 박광범, 기자, 최성재, IBK, 기업, 글로벌, 사업, 본부장, 왼...</td>\n",
       "    </tr>\n",
       "    <tr>\n",
       "      <th>3</th>\n",
       "      <td>2019-04-18</td>\n",
       "      <td>[머니투데이 양태연 머니투데이방송 PD] \\n\\n\\n\\n&lt;시장을 이겨라&gt;\\n\\n이슈...</td>\n",
       "      <td>0</td>\n",
       "      <td>머니투데이 양태연 머니투데이방송 PD 시장을 이겨라 이슈를 꿰뚫어 보는 눈 시장을...</td>\n",
       "      <td>[머니투데이, 태연, 머니투데이, 방송, PD, 시장, 이기다, 이슈, 꿰뚫다, 보...</td>\n",
       "    </tr>\n",
       "    <tr>\n",
       "      <th>4</th>\n",
       "      <td>2019-04-18</td>\n",
       "      <td>안정적인 채권 이자수익과 더불어 페어트레이딩 전략으로 초과수익을 추구하는 미래에셋스...</td>\n",
       "      <td>0</td>\n",
       "      <td>안정적인 채권 이자수익과 더불어 페어트레이딩 전략으로 초과수익을 추구하는 미래에셋스...</td>\n",
       "      <td>[안정, 채권, 이자, 수익, 더불다, 페어, 트레이딩, 전략, 초과, 수익, 추구...</td>\n",
       "    </tr>\n",
       "    <tr>\n",
       "      <th>...</th>\n",
       "      <td>...</td>\n",
       "      <td>...</td>\n",
       "      <td>...</td>\n",
       "      <td>...</td>\n",
       "      <td>...</td>\n",
       "    </tr>\n",
       "    <tr>\n",
       "      <th>11995</th>\n",
       "      <td>2010-05-06</td>\n",
       "      <td>제6구단이 탄생할까, 아니면 4개 팀으로 축소될까.\\n배구계가 뒤숭숭하다. 2009...</td>\n",
       "      <td>0</td>\n",
       "      <td>제 구단이 탄생할까 아니면 개 팀으로 축소될까 배구계가 뒤숭숭하다 V리그가 막을 내...</td>\n",
       "      <td>[구단, 탄생, 하다, 아니다, 축소, 되다, 배구, 숭숭, 리그, 내리다, 자유,...</td>\n",
       "    </tr>\n",
       "    <tr>\n",
       "      <th>11996</th>\n",
       "      <td>2010-04-26</td>\n",
       "      <td>한국투자증권의 ‘한국투자한국의힘증권1’ 펀드는 세계 경쟁력을 갖춘 한국의 대표 기업...</td>\n",
       "      <td>1</td>\n",
       "      <td>한국투자증권의 한국투자한국의힘증권 펀드는 세계 경쟁력을 갖춘 한국의 대표 기업에 집...</td>\n",
       "      <td>[한국, 투자, 증권, 한국, 투자, 한국, 증권, 펀드, 세계, 경쟁력, 갖추다,...</td>\n",
       "    </tr>\n",
       "    <tr>\n",
       "      <th>11997</th>\n",
       "      <td>2010-04-23</td>\n",
       "      <td>세계경제의 빠른 회복세 속에 정보통신(IT) 산업이 호황을 기록하면서 국내 기업들 ...</td>\n",
       "      <td>0</td>\n",
       "      <td>세계경제의 빠른 회복세 속에 정보통신 IT 산업이 호황을 기록하면서 국내 기업들 실...</td>\n",
       "      <td>[세계, 경제, 빠르다, 회복, 정보, 통신, IT, 산업, 호황, 기록, 하다, ...</td>\n",
       "    </tr>\n",
       "    <tr>\n",
       "      <th>11998</th>\n",
       "      <td>2010-04-22</td>\n",
       "      <td>세계경제의 빠른 회복세 속에 정보통신(IT) 산업이 호황을 기록하면서 국내 기업들 ...</td>\n",
       "      <td>0</td>\n",
       "      <td>세계경제의 빠른 회복세 속에 정보통신 IT 산업이 호황을 기록하면서 국내 기업들 실...</td>\n",
       "      <td>[세계, 경제, 빠르다, 회복, 정보, 통신, IT, 산업, 호황, 기록, 하다, ...</td>\n",
       "    </tr>\n",
       "    <tr>\n",
       "      <th>11999</th>\n",
       "      <td>2010-04-19</td>\n",
       "      <td>“승용차 요일제에 참여하면 이자를 더 드려요.” \\n환경친화적인 기업이나 개인 고객...</td>\n",
       "      <td>0</td>\n",
       "      <td>승용차 요일제에 참여하면 이자를 더 드려요 환경친화적인 기업이나 개인 고객에게 금...</td>\n",
       "      <td>[승용차, 일제, 참여, 하다, 이자, 드리다, 환경, 기업, 이나, 개인, 고객,...</td>\n",
       "    </tr>\n",
       "  </tbody>\n",
       "</table>\n",
       "<p>12000 rows × 5 columns</p>\n",
       "</div>"
      ],
      "text/plain": [
       "         datetime                                            content  up/down  \\\n",
       "0      2019-04-18  [머니투데이 창조기획팀 이동오 기자] [글로벌 여행 액티비티 예약 플랫폼 와그(WA...        0   \n",
       "1      2019-04-18  IBK기업은행은 인도 뉴델리 소재 IIT(Indian Institute of Tec...        0   \n",
       "2      2019-04-18  [머니투데이 박광범 기자] 최성재 IBK기업으행 글로벌사업부 본부장(왼쪽)과 산지브...        0   \n",
       "3      2019-04-18  [머니투데이 양태연 머니투데이방송 PD] \\n\\n\\n\\n<시장을 이겨라>\\n\\n이슈...        0   \n",
       "4      2019-04-18  안정적인 채권 이자수익과 더불어 페어트레이딩 전략으로 초과수익을 추구하는 미래에셋스...        0   \n",
       "...           ...                                                ...      ...   \n",
       "11995  2010-05-06  제6구단이 탄생할까, 아니면 4개 팀으로 축소될까.\\n배구계가 뒤숭숭하다. 2009...        0   \n",
       "11996  2010-04-26  한국투자증권의 ‘한국투자한국의힘증권1’ 펀드는 세계 경쟁력을 갖춘 한국의 대표 기업...        1   \n",
       "11997  2010-04-23  세계경제의 빠른 회복세 속에 정보통신(IT) 산업이 호황을 기록하면서 국내 기업들 ...        0   \n",
       "11998  2010-04-22  세계경제의 빠른 회복세 속에 정보통신(IT) 산업이 호황을 기록하면서 국내 기업들 ...        0   \n",
       "11999  2010-04-19  “승용차 요일제에 참여하면 이자를 더 드려요.” \\n환경친화적인 기업이나 개인 고객...        0   \n",
       "\n",
       "                                           clear_content  \\\n",
       "0       머니투데이 창조기획팀 이동오 기자 글로벌 여행 액티비티 예약 플랫폼 와그 WAUG...   \n",
       "1      IBK기업은행은 인도 뉴델리 소재 IIT Indian Institute of Tec...   \n",
       "2       머니투데이 박광범 기자 최성재 IBK기업으행 글로벌사업부 본부장 왼쪽 과 산지브 ...   \n",
       "3       머니투데이 양태연 머니투데이방송 PD 시장을 이겨라 이슈를 꿰뚫어 보는 눈 시장을...   \n",
       "4      안정적인 채권 이자수익과 더불어 페어트레이딩 전략으로 초과수익을 추구하는 미래에셋스...   \n",
       "...                                                  ...   \n",
       "11995  제 구단이 탄생할까 아니면 개 팀으로 축소될까 배구계가 뒤숭숭하다 V리그가 막을 내...   \n",
       "11996  한국투자증권의 한국투자한국의힘증권 펀드는 세계 경쟁력을 갖춘 한국의 대표 기업에 집...   \n",
       "11997  세계경제의 빠른 회복세 속에 정보통신 IT 산업이 호황을 기록하면서 국내 기업들 실...   \n",
       "11998  세계경제의 빠른 회복세 속에 정보통신 IT 산업이 호황을 기록하면서 국내 기업들 실...   \n",
       "11999   승용차 요일제에 참여하면 이자를 더 드려요 환경친화적인 기업이나 개인 고객에게 금...   \n",
       "\n",
       "                                        tokenize_content  \n",
       "0      [머니투데이, 창조, 기획, 동오, 기자, 글로벌, 여행, 티비, 예약, 플랫폼, ...  \n",
       "1      [IBK, 기업은행, 인도, 뉴델리, 소재, IIT, Indian, Institut...  \n",
       "2      [머니투데이, 박광범, 기자, 최성재, IBK, 기업, 글로벌, 사업, 본부장, 왼...  \n",
       "3      [머니투데이, 태연, 머니투데이, 방송, PD, 시장, 이기다, 이슈, 꿰뚫다, 보...  \n",
       "4      [안정, 채권, 이자, 수익, 더불다, 페어, 트레이딩, 전략, 초과, 수익, 추구...  \n",
       "...                                                  ...  \n",
       "11995  [구단, 탄생, 하다, 아니다, 축소, 되다, 배구, 숭숭, 리그, 내리다, 자유,...  \n",
       "11996  [한국, 투자, 증권, 한국, 투자, 한국, 증권, 펀드, 세계, 경쟁력, 갖추다,...  \n",
       "11997  [세계, 경제, 빠르다, 회복, 정보, 통신, IT, 산업, 호황, 기록, 하다, ...  \n",
       "11998  [세계, 경제, 빠르다, 회복, 정보, 통신, IT, 산업, 호황, 기록, 하다, ...  \n",
       "11999  [승용차, 일제, 참여, 하다, 이자, 드리다, 환경, 기업, 이나, 개인, 고객,...  \n",
       "\n",
       "[12000 rows x 5 columns]"
      ]
     },
     "execution_count": 15,
     "metadata": {},
     "output_type": "execute_result"
    }
   ],
   "source": [
    "data"
   ]
  },
  {
   "cell_type": "code",
   "execution_count": 16,
   "metadata": {},
   "outputs": [],
   "source": [
    "data = data.drop('content', 1)"
   ]
  },
  {
   "cell_type": "code",
   "execution_count": 19,
   "metadata": {
    "collapsed": true
   },
   "outputs": [
    {
     "ename": "KeyError",
     "evalue": "\"['clear_content'] not found in axis\"",
     "output_type": "error",
     "traceback": [
      "\u001b[1;31m---------------------------------------------------------------------------\u001b[0m",
      "\u001b[1;31mKeyError\u001b[0m                                  Traceback (most recent call last)",
      "\u001b[1;32m<ipython-input-19-b22ccac73b1a>\u001b[0m in \u001b[0;36m<module>\u001b[1;34m\u001b[0m\n\u001b[1;32m----> 1\u001b[1;33m \u001b[0mdata\u001b[0m \u001b[1;33m=\u001b[0m \u001b[0mdata\u001b[0m\u001b[1;33m.\u001b[0m\u001b[0mdrop\u001b[0m\u001b[1;33m(\u001b[0m\u001b[1;34m'clear_content'\u001b[0m\u001b[1;33m,\u001b[0m \u001b[1;36m1\u001b[0m\u001b[1;33m)\u001b[0m\u001b[1;33m\u001b[0m\u001b[1;33m\u001b[0m\u001b[0m\n\u001b[0m",
      "\u001b[1;32mD:\\python2020\\lib\\site-packages\\pandas\\core\\frame.py\u001b[0m in \u001b[0;36mdrop\u001b[1;34m(self, labels, axis, index, columns, level, inplace, errors)\u001b[0m\n\u001b[0;32m   3995\u001b[0m             \u001b[0mlevel\u001b[0m\u001b[1;33m=\u001b[0m\u001b[0mlevel\u001b[0m\u001b[1;33m,\u001b[0m\u001b[1;33m\u001b[0m\u001b[1;33m\u001b[0m\u001b[0m\n\u001b[0;32m   3996\u001b[0m             \u001b[0minplace\u001b[0m\u001b[1;33m=\u001b[0m\u001b[0minplace\u001b[0m\u001b[1;33m,\u001b[0m\u001b[1;33m\u001b[0m\u001b[1;33m\u001b[0m\u001b[0m\n\u001b[1;32m-> 3997\u001b[1;33m             \u001b[0merrors\u001b[0m\u001b[1;33m=\u001b[0m\u001b[0merrors\u001b[0m\u001b[1;33m,\u001b[0m\u001b[1;33m\u001b[0m\u001b[1;33m\u001b[0m\u001b[0m\n\u001b[0m\u001b[0;32m   3998\u001b[0m         )\n\u001b[0;32m   3999\u001b[0m \u001b[1;33m\u001b[0m\u001b[0m\n",
      "\u001b[1;32mD:\\python2020\\lib\\site-packages\\pandas\\core\\generic.py\u001b[0m in \u001b[0;36mdrop\u001b[1;34m(self, labels, axis, index, columns, level, inplace, errors)\u001b[0m\n\u001b[0;32m   3934\u001b[0m         \u001b[1;32mfor\u001b[0m \u001b[0maxis\u001b[0m\u001b[1;33m,\u001b[0m \u001b[0mlabels\u001b[0m \u001b[1;32min\u001b[0m \u001b[0maxes\u001b[0m\u001b[1;33m.\u001b[0m\u001b[0mitems\u001b[0m\u001b[1;33m(\u001b[0m\u001b[1;33m)\u001b[0m\u001b[1;33m:\u001b[0m\u001b[1;33m\u001b[0m\u001b[1;33m\u001b[0m\u001b[0m\n\u001b[0;32m   3935\u001b[0m             \u001b[1;32mif\u001b[0m \u001b[0mlabels\u001b[0m \u001b[1;32mis\u001b[0m \u001b[1;32mnot\u001b[0m \u001b[1;32mNone\u001b[0m\u001b[1;33m:\u001b[0m\u001b[1;33m\u001b[0m\u001b[1;33m\u001b[0m\u001b[0m\n\u001b[1;32m-> 3936\u001b[1;33m                 \u001b[0mobj\u001b[0m \u001b[1;33m=\u001b[0m \u001b[0mobj\u001b[0m\u001b[1;33m.\u001b[0m\u001b[0m_drop_axis\u001b[0m\u001b[1;33m(\u001b[0m\u001b[0mlabels\u001b[0m\u001b[1;33m,\u001b[0m \u001b[0maxis\u001b[0m\u001b[1;33m,\u001b[0m \u001b[0mlevel\u001b[0m\u001b[1;33m=\u001b[0m\u001b[0mlevel\u001b[0m\u001b[1;33m,\u001b[0m \u001b[0merrors\u001b[0m\u001b[1;33m=\u001b[0m\u001b[0merrors\u001b[0m\u001b[1;33m)\u001b[0m\u001b[1;33m\u001b[0m\u001b[1;33m\u001b[0m\u001b[0m\n\u001b[0m\u001b[0;32m   3937\u001b[0m \u001b[1;33m\u001b[0m\u001b[0m\n\u001b[0;32m   3938\u001b[0m         \u001b[1;32mif\u001b[0m \u001b[0minplace\u001b[0m\u001b[1;33m:\u001b[0m\u001b[1;33m\u001b[0m\u001b[1;33m\u001b[0m\u001b[0m\n",
      "\u001b[1;32mD:\\python2020\\lib\\site-packages\\pandas\\core\\generic.py\u001b[0m in \u001b[0;36m_drop_axis\u001b[1;34m(self, labels, axis, level, errors)\u001b[0m\n\u001b[0;32m   3968\u001b[0m                 \u001b[0mnew_axis\u001b[0m \u001b[1;33m=\u001b[0m \u001b[0maxis\u001b[0m\u001b[1;33m.\u001b[0m\u001b[0mdrop\u001b[0m\u001b[1;33m(\u001b[0m\u001b[0mlabels\u001b[0m\u001b[1;33m,\u001b[0m \u001b[0mlevel\u001b[0m\u001b[1;33m=\u001b[0m\u001b[0mlevel\u001b[0m\u001b[1;33m,\u001b[0m \u001b[0merrors\u001b[0m\u001b[1;33m=\u001b[0m\u001b[0merrors\u001b[0m\u001b[1;33m)\u001b[0m\u001b[1;33m\u001b[0m\u001b[1;33m\u001b[0m\u001b[0m\n\u001b[0;32m   3969\u001b[0m             \u001b[1;32melse\u001b[0m\u001b[1;33m:\u001b[0m\u001b[1;33m\u001b[0m\u001b[1;33m\u001b[0m\u001b[0m\n\u001b[1;32m-> 3970\u001b[1;33m                 \u001b[0mnew_axis\u001b[0m \u001b[1;33m=\u001b[0m \u001b[0maxis\u001b[0m\u001b[1;33m.\u001b[0m\u001b[0mdrop\u001b[0m\u001b[1;33m(\u001b[0m\u001b[0mlabels\u001b[0m\u001b[1;33m,\u001b[0m \u001b[0merrors\u001b[0m\u001b[1;33m=\u001b[0m\u001b[0merrors\u001b[0m\u001b[1;33m)\u001b[0m\u001b[1;33m\u001b[0m\u001b[1;33m\u001b[0m\u001b[0m\n\u001b[0m\u001b[0;32m   3971\u001b[0m             \u001b[0mresult\u001b[0m \u001b[1;33m=\u001b[0m \u001b[0mself\u001b[0m\u001b[1;33m.\u001b[0m\u001b[0mreindex\u001b[0m\u001b[1;33m(\u001b[0m\u001b[1;33m**\u001b[0m\u001b[1;33m{\u001b[0m\u001b[0maxis_name\u001b[0m\u001b[1;33m:\u001b[0m \u001b[0mnew_axis\u001b[0m\u001b[1;33m}\u001b[0m\u001b[1;33m)\u001b[0m\u001b[1;33m\u001b[0m\u001b[1;33m\u001b[0m\u001b[0m\n\u001b[0;32m   3972\u001b[0m \u001b[1;33m\u001b[0m\u001b[0m\n",
      "\u001b[1;32mD:\\python2020\\lib\\site-packages\\pandas\\core\\indexes\\base.py\u001b[0m in \u001b[0;36mdrop\u001b[1;34m(self, labels, errors)\u001b[0m\n\u001b[0;32m   5015\u001b[0m         \u001b[1;32mif\u001b[0m \u001b[0mmask\u001b[0m\u001b[1;33m.\u001b[0m\u001b[0many\u001b[0m\u001b[1;33m(\u001b[0m\u001b[1;33m)\u001b[0m\u001b[1;33m:\u001b[0m\u001b[1;33m\u001b[0m\u001b[1;33m\u001b[0m\u001b[0m\n\u001b[0;32m   5016\u001b[0m             \u001b[1;32mif\u001b[0m \u001b[0merrors\u001b[0m \u001b[1;33m!=\u001b[0m \u001b[1;34m\"ignore\"\u001b[0m\u001b[1;33m:\u001b[0m\u001b[1;33m\u001b[0m\u001b[1;33m\u001b[0m\u001b[0m\n\u001b[1;32m-> 5017\u001b[1;33m                 \u001b[1;32mraise\u001b[0m \u001b[0mKeyError\u001b[0m\u001b[1;33m(\u001b[0m\u001b[1;34mf\"{labels[mask]} not found in axis\"\u001b[0m\u001b[1;33m)\u001b[0m\u001b[1;33m\u001b[0m\u001b[1;33m\u001b[0m\u001b[0m\n\u001b[0m\u001b[0;32m   5018\u001b[0m             \u001b[0mindexer\u001b[0m \u001b[1;33m=\u001b[0m \u001b[0mindexer\u001b[0m\u001b[1;33m[\u001b[0m\u001b[1;33m~\u001b[0m\u001b[0mmask\u001b[0m\u001b[1;33m]\u001b[0m\u001b[1;33m\u001b[0m\u001b[1;33m\u001b[0m\u001b[0m\n\u001b[0;32m   5019\u001b[0m         \u001b[1;32mreturn\u001b[0m \u001b[0mself\u001b[0m\u001b[1;33m.\u001b[0m\u001b[0mdelete\u001b[0m\u001b[1;33m(\u001b[0m\u001b[0mindexer\u001b[0m\u001b[1;33m)\u001b[0m\u001b[1;33m\u001b[0m\u001b[1;33m\u001b[0m\u001b[0m\n",
      "\u001b[1;31mKeyError\u001b[0m: \"['clear_content'] not found in axis\""
     ]
    }
   ],
   "source": [
    "data = data.drop('clear_content', 1)"
   ]
  },
  {
   "cell_type": "code",
   "execution_count": 20,
   "metadata": {},
   "outputs": [],
   "source": [
    "#tokenized_doc = data['tokenize_content']"
   ]
  },
  {
   "cell_type": "code",
   "execution_count": 39,
   "metadata": {
    "collapsed": true
   },
   "outputs": [
    {
     "ename": "KeyError",
     "evalue": "' 머니투데이 창조기획팀 이동오 기자 글로벌 여행 액티비티 예약 플랫폼 와그 WAUG 시리즈C 투자 유치 글로벌 여행 액티비티 예약 플랫폼 와그 WAUG 를 서비스하는 ㈜와그트래블 대표 선우윤 이 시리즈C 투자를 유치했다고 일 밝혔다 사진제공 와그트래블이번 투자는 기존 투자사인 LB인베스트먼트 컴퍼니K파트너스를 비롯해 신규 주주로 SBI인베스트먼트 알바트로스인베스트먼트 로그인베스트먼트 델타인베스트먼트 그리고 IBK기업은행이 참여했다 투자 금액은 억원이다 여기에 신용보증기금의 퍼스트펭귄기업 선정으로 억원을 추가 확보했다 업체 측은 년 와그 서비스 출시 후 누적 투자액은 억원으로 국내 단일 액티비티 예약 플랫폼으로는 최대 규모 라고 설명했다 와그는 현재 여 개 도시 만여 개의 여행 액티비티 상품을 판매 중이다 년 서비스 출시 후 연평균 의 매출 성장을 이뤄냈으며 모바일 결제 비율이 로 모바일에 가장 최적화된 자유여행 서비스로 평가받고 있다 올해 월에는 본격적으로 해외 시장에 진출했다 매월 건 이상의 해외 사용자의 결제가 이뤄지고 있으며 이상이 싱가포르 필리핀 등 동남아시아 사용자다 와그는 경쟁이 치열한 국내 여행 액티비티 시장에 안주하지 않고 글로벌 시장을 개척해 규모와 성장세를 더욱 가속한다는 계획이다 이미 싱가포르 법인과 일본 지사를 설립했으며 연내 홍콩 태국 필리핀 등 동남아시아 주요 국가에 진출할 계획이다 또한 현지에 전문 인력을 채용해 현지 제휴와 마케팅을 강화할 예정이다 자체 브랜드 PB 투어인 와그 핑크 시리즈도 강화한다 현재 개 국가에서 운영되고 있는 와그 핑크 시리즈는 괌 와그 핑크 돌핀크루즈 방콕 와그 핑크 왕궁 투어 등 총 개가 있는데 올해 개까지 늘릴 계획이다 이번 투자를 주도한 SBI인베스트먼트의 황규진 팀장은 와그는 이미 높은 상품 콘텐츠 퀄리티와 판매량을 기반으로 경쟁사 대비 안정적인 수익성을 갖고 있는 서비스 라며 강력한 한국 아웃바운드 시장을 기반으로 일본 및 동남아에 성공적으로 안착해 아시아 대표 액티비티 플랫폼으로 자리잡을 것으로 기대한다 고 말했다 선우윤 와그트래블 대표는 그동안 여행 관련한 한국 기업이 글로벌로 진출한 사례가 단 한 번도 없었다 며 와그는 누구도 도전하지 않았던 글로벌 시장에서 한국 기업의 우수성을 증명해 보일 것 이라고 말했다 한편 와그트래블은 이번 투자 유치를 계기로 글로벌 OTA 경험이 있는 인재를 다수 채용할 계획이다 '",
     "output_type": "error",
     "traceback": [
      "\u001b[1;31m---------------------------------------------------------------------------\u001b[0m",
      "\u001b[1;31mKeyError\u001b[0m                                  Traceback (most recent call last)",
      "\u001b[1;32m<ipython-input-39-d34a9c87431a>\u001b[0m in \u001b[0;36m<module>\u001b[1;34m\u001b[0m\n\u001b[0;32m      5\u001b[0m \u001b[0mdetokenized1\u001b[0m \u001b[1;33m=\u001b[0m \u001b[1;33m[\u001b[0m\u001b[1;33m]\u001b[0m\u001b[1;33m\u001b[0m\u001b[1;33m\u001b[0m\u001b[0m\n\u001b[0;32m      6\u001b[0m \u001b[1;32mfor\u001b[0m \u001b[0mi\u001b[0m \u001b[1;32min\u001b[0m \u001b[0mtext\u001b[0m\u001b[1;33m:\u001b[0m\u001b[1;33m\u001b[0m\u001b[1;33m\u001b[0m\u001b[0m\n\u001b[1;32m----> 7\u001b[1;33m     \u001b[0mt\u001b[0m \u001b[1;33m=\u001b[0m \u001b[1;34m''\u001b[0m\u001b[1;33m.\u001b[0m\u001b[0mjoin\u001b[0m\u001b[1;33m(\u001b[0m\u001b[0mtokenized_doc\u001b[0m\u001b[1;33m[\u001b[0m\u001b[0mi\u001b[0m\u001b[1;33m]\u001b[0m\u001b[1;33m)\u001b[0m\u001b[1;33m\u001b[0m\u001b[1;33m\u001b[0m\u001b[0m\n\u001b[0m\u001b[0;32m      8\u001b[0m     \u001b[0mdetokenized1\u001b[0m\u001b[1;33m.\u001b[0m\u001b[0mappend\u001b[0m\u001b[1;33m(\u001b[0m\u001b[0mt\u001b[0m\u001b[1;33m)\u001b[0m\u001b[1;33m\u001b[0m\u001b[1;33m\u001b[0m\u001b[0m\n",
      "\u001b[1;32mD:\\python2020\\lib\\site-packages\\pandas\\core\\series.py\u001b[0m in \u001b[0;36m__getitem__\u001b[1;34m(self, key)\u001b[0m\n\u001b[0;32m    869\u001b[0m         \u001b[0mkey\u001b[0m \u001b[1;33m=\u001b[0m \u001b[0mcom\u001b[0m\u001b[1;33m.\u001b[0m\u001b[0mapply_if_callable\u001b[0m\u001b[1;33m(\u001b[0m\u001b[0mkey\u001b[0m\u001b[1;33m,\u001b[0m \u001b[0mself\u001b[0m\u001b[1;33m)\u001b[0m\u001b[1;33m\u001b[0m\u001b[1;33m\u001b[0m\u001b[0m\n\u001b[0;32m    870\u001b[0m         \u001b[1;32mtry\u001b[0m\u001b[1;33m:\u001b[0m\u001b[1;33m\u001b[0m\u001b[1;33m\u001b[0m\u001b[0m\n\u001b[1;32m--> 871\u001b[1;33m             \u001b[0mresult\u001b[0m \u001b[1;33m=\u001b[0m \u001b[0mself\u001b[0m\u001b[1;33m.\u001b[0m\u001b[0mindex\u001b[0m\u001b[1;33m.\u001b[0m\u001b[0mget_value\u001b[0m\u001b[1;33m(\u001b[0m\u001b[0mself\u001b[0m\u001b[1;33m,\u001b[0m \u001b[0mkey\u001b[0m\u001b[1;33m)\u001b[0m\u001b[1;33m\u001b[0m\u001b[1;33m\u001b[0m\u001b[0m\n\u001b[0m\u001b[0;32m    872\u001b[0m \u001b[1;33m\u001b[0m\u001b[0m\n\u001b[0;32m    873\u001b[0m             \u001b[1;32mif\u001b[0m \u001b[1;32mnot\u001b[0m \u001b[0mis_scalar\u001b[0m\u001b[1;33m(\u001b[0m\u001b[0mresult\u001b[0m\u001b[1;33m)\u001b[0m\u001b[1;33m:\u001b[0m\u001b[1;33m\u001b[0m\u001b[1;33m\u001b[0m\u001b[0m\n",
      "\u001b[1;32mD:\\python2020\\lib\\site-packages\\pandas\\core\\indexes\\base.py\u001b[0m in \u001b[0;36mget_value\u001b[1;34m(self, series, key)\u001b[0m\n\u001b[0;32m   4402\u001b[0m         \u001b[0mk\u001b[0m \u001b[1;33m=\u001b[0m \u001b[0mself\u001b[0m\u001b[1;33m.\u001b[0m\u001b[0m_convert_scalar_indexer\u001b[0m\u001b[1;33m(\u001b[0m\u001b[0mk\u001b[0m\u001b[1;33m,\u001b[0m \u001b[0mkind\u001b[0m\u001b[1;33m=\u001b[0m\u001b[1;34m\"getitem\"\u001b[0m\u001b[1;33m)\u001b[0m\u001b[1;33m\u001b[0m\u001b[1;33m\u001b[0m\u001b[0m\n\u001b[0;32m   4403\u001b[0m         \u001b[1;32mtry\u001b[0m\u001b[1;33m:\u001b[0m\u001b[1;33m\u001b[0m\u001b[1;33m\u001b[0m\u001b[0m\n\u001b[1;32m-> 4404\u001b[1;33m             \u001b[1;32mreturn\u001b[0m \u001b[0mself\u001b[0m\u001b[1;33m.\u001b[0m\u001b[0m_engine\u001b[0m\u001b[1;33m.\u001b[0m\u001b[0mget_value\u001b[0m\u001b[1;33m(\u001b[0m\u001b[0ms\u001b[0m\u001b[1;33m,\u001b[0m \u001b[0mk\u001b[0m\u001b[1;33m,\u001b[0m \u001b[0mtz\u001b[0m\u001b[1;33m=\u001b[0m\u001b[0mgetattr\u001b[0m\u001b[1;33m(\u001b[0m\u001b[0mseries\u001b[0m\u001b[1;33m.\u001b[0m\u001b[0mdtype\u001b[0m\u001b[1;33m,\u001b[0m \u001b[1;34m\"tz\"\u001b[0m\u001b[1;33m,\u001b[0m \u001b[1;32mNone\u001b[0m\u001b[1;33m)\u001b[0m\u001b[1;33m)\u001b[0m\u001b[1;33m\u001b[0m\u001b[1;33m\u001b[0m\u001b[0m\n\u001b[0m\u001b[0;32m   4405\u001b[0m         \u001b[1;32mexcept\u001b[0m \u001b[0mKeyError\u001b[0m \u001b[1;32mas\u001b[0m \u001b[0me1\u001b[0m\u001b[1;33m:\u001b[0m\u001b[1;33m\u001b[0m\u001b[1;33m\u001b[0m\u001b[0m\n\u001b[0;32m   4406\u001b[0m             \u001b[1;32mif\u001b[0m \u001b[0mlen\u001b[0m\u001b[1;33m(\u001b[0m\u001b[0mself\u001b[0m\u001b[1;33m)\u001b[0m \u001b[1;33m>\u001b[0m \u001b[1;36m0\u001b[0m \u001b[1;32mand\u001b[0m \u001b[1;33m(\u001b[0m\u001b[0mself\u001b[0m\u001b[1;33m.\u001b[0m\u001b[0mholds_integer\u001b[0m\u001b[1;33m(\u001b[0m\u001b[1;33m)\u001b[0m \u001b[1;32mor\u001b[0m \u001b[0mself\u001b[0m\u001b[1;33m.\u001b[0m\u001b[0mis_boolean\u001b[0m\u001b[1;33m(\u001b[0m\u001b[1;33m)\u001b[0m\u001b[1;33m)\u001b[0m\u001b[1;33m:\u001b[0m\u001b[1;33m\u001b[0m\u001b[1;33m\u001b[0m\u001b[0m\n",
      "\u001b[1;32mpandas\\_libs\\index.pyx\u001b[0m in \u001b[0;36mpandas._libs.index.IndexEngine.get_value\u001b[1;34m()\u001b[0m\n",
      "\u001b[1;32mpandas\\_libs\\index.pyx\u001b[0m in \u001b[0;36mpandas._libs.index.IndexEngine.get_value\u001b[1;34m()\u001b[0m\n",
      "\u001b[1;32mpandas\\_libs\\index.pyx\u001b[0m in \u001b[0;36mpandas._libs.index.IndexEngine.get_loc\u001b[1;34m()\u001b[0m\n",
      "\u001b[1;32mpandas\\_libs\\index_class_helper.pxi\u001b[0m in \u001b[0;36mpandas._libs.index.Int64Engine._check_type\u001b[1;34m()\u001b[0m\n",
      "\u001b[1;31mKeyError\u001b[0m: ' 머니투데이 창조기획팀 이동오 기자 글로벌 여행 액티비티 예약 플랫폼 와그 WAUG 시리즈C 투자 유치 글로벌 여행 액티비티 예약 플랫폼 와그 WAUG 를 서비스하는 ㈜와그트래블 대표 선우윤 이 시리즈C 투자를 유치했다고 일 밝혔다 사진제공 와그트래블이번 투자는 기존 투자사인 LB인베스트먼트 컴퍼니K파트너스를 비롯해 신규 주주로 SBI인베스트먼트 알바트로스인베스트먼트 로그인베스트먼트 델타인베스트먼트 그리고 IBK기업은행이 참여했다 투자 금액은 억원이다 여기에 신용보증기금의 퍼스트펭귄기업 선정으로 억원을 추가 확보했다 업체 측은 년 와그 서비스 출시 후 누적 투자액은 억원으로 국내 단일 액티비티 예약 플랫폼으로는 최대 규모 라고 설명했다 와그는 현재 여 개 도시 만여 개의 여행 액티비티 상품을 판매 중이다 년 서비스 출시 후 연평균 의 매출 성장을 이뤄냈으며 모바일 결제 비율이 로 모바일에 가장 최적화된 자유여행 서비스로 평가받고 있다 올해 월에는 본격적으로 해외 시장에 진출했다 매월 건 이상의 해외 사용자의 결제가 이뤄지고 있으며 이상이 싱가포르 필리핀 등 동남아시아 사용자다 와그는 경쟁이 치열한 국내 여행 액티비티 시장에 안주하지 않고 글로벌 시장을 개척해 규모와 성장세를 더욱 가속한다는 계획이다 이미 싱가포르 법인과 일본 지사를 설립했으며 연내 홍콩 태국 필리핀 등 동남아시아 주요 국가에 진출할 계획이다 또한 현지에 전문 인력을 채용해 현지 제휴와 마케팅을 강화할 예정이다 자체 브랜드 PB 투어인 와그 핑크 시리즈도 강화한다 현재 개 국가에서 운영되고 있는 와그 핑크 시리즈는 괌 와그 핑크 돌핀크루즈 방콕 와그 핑크 왕궁 투어 등 총 개가 있는데 올해 개까지 늘릴 계획이다 이번 투자를 주도한 SBI인베스트먼트의 황규진 팀장은 와그는 이미 높은 상품 콘텐츠 퀄리티와 판매량을 기반으로 경쟁사 대비 안정적인 수익성을 갖고 있는 서비스 라며 강력한 한국 아웃바운드 시장을 기반으로 일본 및 동남아에 성공적으로 안착해 아시아 대표 액티비티 플랫폼으로 자리잡을 것으로 기대한다 고 말했다 선우윤 와그트래블 대표는 그동안 여행 관련한 한국 기업이 글로벌로 진출한 사례가 단 한 번도 없었다 며 와그는 누구도 도전하지 않았던 글로벌 시장에서 한국 기업의 우수성을 증명해 보일 것 이라고 말했다 한편 와그트래블은 이번 투자 유치를 계기로 글로벌 OTA 경험이 있는 인재를 다수 채용할 계획이다 '"
     ]
    }
   ],
   "source": [
    "#TfidfVectorizer는 기본적으로 토큰화가 되어있지 않은 텍스트 데이터를 입력으로 사용한다. \n",
    "#그렇기 때문에 TfidfVectorizer를 사용해서 TF-IDF 행렬을 만들기 위해서 다시 토큰화 작업을 역으로 취소하는 역토큰화(Detokenization) 작업을 수행해본다.\n",
    "\n",
    "# 역토큰화\n",
    "#detokenized1 = []\n",
    "#for i in text:\n",
    "    t = ''.join(tokenized_doc[i])\n",
    "    detokenized1.append(t)\n"
   ]
  },
  {
   "cell_type": "code",
   "execution_count": null,
   "metadata": {},
   "outputs": [],
   "source": []
  }
 ],
 "metadata": {
  "kernelspec": {
   "display_name": "Python 3",
   "language": "python",
   "name": "python3"
  },
  "language_info": {
   "codemirror_mode": {
    "name": "ipython",
    "version": 3
   },
   "file_extension": ".py",
   "mimetype": "text/x-python",
   "name": "python",
   "nbconvert_exporter": "python",
   "pygments_lexer": "ipython3",
   "version": "3.7.7"
  }
 },
 "nbformat": 4,
 "nbformat_minor": 4
}
