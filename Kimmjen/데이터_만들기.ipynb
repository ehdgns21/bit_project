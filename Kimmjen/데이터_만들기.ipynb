{
  "nbformat": 4,
  "nbformat_minor": 0,
  "metadata": {
    "colab": {
      "name": "데이터 만들기",
      "provenance": [],
      "collapsed_sections": []
    },
    "kernelspec": {
      "name": "python3",
      "display_name": "Python 3"
    }
  },
  "cells": [
    {
      "cell_type": "code",
      "metadata": {
        "id": "emRWG3BoTRmn",
        "colab_type": "code",
        "colab": {}
      },
      "source": [
        ""
      ],
      "execution_count": 0,
      "outputs": []
    },
    {
      "cell_type": "code",
      "metadata": {
        "id": "ihqD89bnaqSd",
        "colab_type": "code",
        "colab": {}
      },
      "source": [
        "import pandas as pd\n"
      ],
      "execution_count": 0,
      "outputs": []
    },
    {
      "cell_type": "code",
      "metadata": {
        "id": "ZtHhDUnMa0K-",
        "colab_type": "code",
        "colab": {}
      },
      "source": [
        "data = pd.read_csv('/content/drive/My Drive/Colab Notebooks/data/ibk주가통합본none값제거01표시불용어처리제목.csv')"
      ],
      "execution_count": 0,
      "outputs": []
    },
    {
      "cell_type": "code",
      "metadata": {
        "id": "HOkRmPv-a2oo",
        "colab_type": "code",
        "outputId": "45cc76f9-04bd-48d3-9ae7-268df8a33838",
        "colab": {
          "base_uri": "https://localhost:8080/",
          "height": 419
        }
      },
      "source": [
        "data"
      ],
      "execution_count": 0,
      "outputs": [
        {
          "output_type": "execute_result",
          "data": {
            "text/html": [
              "<div>\n",
              "<style scoped>\n",
              "    .dataframe tbody tr th:only-of-type {\n",
              "        vertical-align: middle;\n",
              "    }\n",
              "\n",
              "    .dataframe tbody tr th {\n",
              "        vertical-align: top;\n",
              "    }\n",
              "\n",
              "    .dataframe thead th {\n",
              "        text-align: right;\n",
              "    }\n",
              "</style>\n",
              "<table border=\"1\" class=\"dataframe\">\n",
              "  <thead>\n",
              "    <tr style=\"text-align: right;\">\n",
              "      <th></th>\n",
              "      <th>datetime</th>\n",
              "      <th>date</th>\n",
              "      <th>headline</th>\n",
              "      <th>content</th>\n",
              "      <th>up/down</th>\n",
              "    </tr>\n",
              "  </thead>\n",
              "  <tbody>\n",
              "    <tr>\n",
              "      <th>0</th>\n",
              "      <td>2019-04-18</td>\n",
              "      <td>2019-04-18</td>\n",
              "      <td>와그트래블, 135억원 자금 확보…글로벌 공략 나선다</td>\n",
              "      <td>[머니투데이 창조기획팀 이동오 기자] [글로벌 여행 액티비티 예약 플랫폼 와그(WA...</td>\n",
              "      <td>0</td>\n",
              "    </tr>\n",
              "    <tr>\n",
              "      <th>1</th>\n",
              "      <td>2019-04-18</td>\n",
              "      <td>2019-04-18</td>\n",
              "      <td>기업은행, 인도 IIT 경영전문대학과 인재양성 업무협약</td>\n",
              "      <td>IBK기업은행은 인도 뉴델리 소재 IIT(Indian Institute of Tec...</td>\n",
              "      <td>0</td>\n",
              "    </tr>\n",
              "    <tr>\n",
              "      <th>2</th>\n",
              "      <td>2019-04-18</td>\n",
              "      <td>2019-04-18</td>\n",
              "      <td>기업은행, 인도 IIT 경영전문대학과 인재양성 업무협약 체결</td>\n",
              "      <td>[머니투데이 박광범 기자] 최성재 IBK기업으행 글로벌사업부 본부장(왼쪽)과 산지브...</td>\n",
              "      <td>0</td>\n",
              "    </tr>\n",
              "    <tr>\n",
              "      <th>3</th>\n",
              "      <td>2019-04-18</td>\n",
              "      <td>2019-04-18</td>\n",
              "      <td>[시장을 이겨라] \"반등하는 4월 장… 美 재무부 환율보고서·기업 실적 주목\"</td>\n",
              "      <td>[머니투데이 양태연 머니투데이방송 PD] \\n\\n\\n\\n&lt;시장을 이겨라&gt;\\n\\n이슈...</td>\n",
              "      <td>0</td>\n",
              "    </tr>\n",
              "    <tr>\n",
              "      <th>4</th>\n",
              "      <td>2019-04-18</td>\n",
              "      <td>2019-04-18</td>\n",
              "      <td>미래에셋자산운용, 단기채권 투자·주식 페어트레이딩 ‘쌍끌이 전략’</td>\n",
              "      <td>안정적인 채권 이자수익과 더불어 페어트레이딩 전략으로 초과수익을 추구하는 미래에셋스...</td>\n",
              "      <td>0</td>\n",
              "    </tr>\n",
              "    <tr>\n",
              "      <th>...</th>\n",
              "      <td>...</td>\n",
              "      <td>...</td>\n",
              "      <td>...</td>\n",
              "      <td>...</td>\n",
              "      <td>...</td>\n",
              "    </tr>\n",
              "    <tr>\n",
              "      <th>11995</th>\n",
              "      <td>2010-05-06</td>\n",
              "      <td>2010-05-06</td>\n",
              "      <td>인사이드 스포츠 / 여자배구, 6구단이냐 4구단이냐</td>\n",
              "      <td>제6구단이 탄생할까, 아니면 4개 팀으로 축소될까.\\n배구계가 뒤숭숭하다. 2009...</td>\n",
              "      <td>0</td>\n",
              "    </tr>\n",
              "    <tr>\n",
              "      <th>11996</th>\n",
              "      <td>2010-04-26</td>\n",
              "      <td>2010-04-26</td>\n",
              "      <td>새상품</td>\n",
              "      <td>한국투자증권의 ‘한국투자한국의힘증권1’ 펀드는 세계 경쟁력을 갖춘 한국의 대표 기업...</td>\n",
              "      <td>1</td>\n",
              "    </tr>\n",
              "    <tr>\n",
              "      <th>11997</th>\n",
              "      <td>2010-04-23</td>\n",
              "      <td>2010-04-23</td>\n",
              "      <td>IT 봄바람은 계속된다</td>\n",
              "      <td>세계경제의 빠른 회복세 속에 정보통신(IT) 산업이 호황을 기록하면서 국내 기업들 ...</td>\n",
              "      <td>0</td>\n",
              "    </tr>\n",
              "    <tr>\n",
              "      <th>11998</th>\n",
              "      <td>2010-04-22</td>\n",
              "      <td>2010-04-22</td>\n",
              "      <td>IT 봄바람은 계속된다</td>\n",
              "      <td>세계경제의 빠른 회복세 속에 정보통신(IT) 산업이 호황을 기록하면서 국내 기업들 ...</td>\n",
              "      <td>0</td>\n",
              "    </tr>\n",
              "    <tr>\n",
              "      <th>11999</th>\n",
              "      <td>2010-04-19</td>\n",
              "      <td>2010-04-19</td>\n",
              "      <td>“자전거로 출퇴근하면 금리 더 드려요”</td>\n",
              "      <td>“승용차 요일제에 참여하면 이자를 더 드려요.” \\n환경친화적인 기업이나 개인 고객...</td>\n",
              "      <td>0</td>\n",
              "    </tr>\n",
              "  </tbody>\n",
              "</table>\n",
              "<p>12000 rows × 5 columns</p>\n",
              "</div>"
            ],
            "text/plain": [
              "         datetime  ... up/down\n",
              "0      2019-04-18  ...       0\n",
              "1      2019-04-18  ...       0\n",
              "2      2019-04-18  ...       0\n",
              "3      2019-04-18  ...       0\n",
              "4      2019-04-18  ...       0\n",
              "...           ...  ...     ...\n",
              "11995  2010-05-06  ...       0\n",
              "11996  2010-04-26  ...       1\n",
              "11997  2010-04-23  ...       0\n",
              "11998  2010-04-22  ...       0\n",
              "11999  2010-04-19  ...       0\n",
              "\n",
              "[12000 rows x 5 columns]"
            ]
          },
          "metadata": {
            "tags": []
          },
          "execution_count": 3
        }
      ]
    },
    {
      "cell_type": "code",
      "metadata": {
        "id": "rxJl1igTe8nB",
        "colab_type": "code",
        "colab": {}
      },
      "source": [
        "# # date=data['datetime']\n",
        "# data['datetime'] = data['date'].apply(lambda x: pd.to_datetime(str(x), format='%Y-%m-%d'))\n"
      ],
      "execution_count": 0,
      "outputs": []
    },
    {
      "cell_type": "code",
      "metadata": {
        "id": "aHlVgCdZe8eT",
        "colab_type": "code",
        "outputId": "db7e8a4d-f2f3-4314-c4d8-cb27107bf467",
        "colab": {
          "base_uri": "https://localhost:8080/",
          "height": 233
        }
      },
      "source": [
        "data.info()"
      ],
      "execution_count": 0,
      "outputs": [
        {
          "output_type": "stream",
          "text": [
            "<class 'pandas.core.frame.DataFrame'>\n",
            "RangeIndex: 12000 entries, 0 to 11999\n",
            "Data columns (total 5 columns):\n",
            " #   Column    Non-Null Count  Dtype         \n",
            "---  ------    --------------  -----         \n",
            " 0   datetime  12000 non-null  datetime64[ns]\n",
            " 1   date      12000 non-null  object        \n",
            " 2   headline  12000 non-null  object        \n",
            " 3   content   12000 non-null  object        \n",
            " 4   up/down   12000 non-null  int64         \n",
            "dtypes: datetime64[ns](1), int64(1), object(3)\n",
            "memory usage: 468.9+ KB\n"
          ],
          "name": "stdout"
        }
      ]
    },
    {
      "cell_type": "code",
      "metadata": {
        "id": "P3JGRP6De8R8",
        "colab_type": "code",
        "colab": {}
      },
      "source": [
        "data.set_index(data['datetime'], inplace=True)"
      ],
      "execution_count": 0,
      "outputs": []
    },
    {
      "cell_type": "code",
      "metadata": {
        "id": "5cMztb26hMXW",
        "colab_type": "code",
        "colab": {}
      },
      "source": [
        "train=data.loc['2018-12-28':]"
      ],
      "execution_count": 0,
      "outputs": []
    },
    {
      "cell_type": "code",
      "metadata": {
        "id": "7qIHzIbCMgBq",
        "colab_type": "code",
        "outputId": "da94cb05-429c-4fc1-914c-8302f0992151",
        "colab": {
          "base_uri": "https://localhost:8080/",
          "height": 450
        }
      },
      "source": [
        "train"
      ],
      "execution_count": 0,
      "outputs": [
        {
          "output_type": "execute_result",
          "data": {
            "text/html": [
              "<div>\n",
              "<style scoped>\n",
              "    .dataframe tbody tr th:only-of-type {\n",
              "        vertical-align: middle;\n",
              "    }\n",
              "\n",
              "    .dataframe tbody tr th {\n",
              "        vertical-align: top;\n",
              "    }\n",
              "\n",
              "    .dataframe thead th {\n",
              "        text-align: right;\n",
              "    }\n",
              "</style>\n",
              "<table border=\"1\" class=\"dataframe\">\n",
              "  <thead>\n",
              "    <tr style=\"text-align: right;\">\n",
              "      <th></th>\n",
              "      <th>datetime</th>\n",
              "      <th>date</th>\n",
              "      <th>headline</th>\n",
              "      <th>content</th>\n",
              "      <th>up/down</th>\n",
              "    </tr>\n",
              "    <tr>\n",
              "      <th>datetime</th>\n",
              "      <th></th>\n",
              "      <th></th>\n",
              "      <th></th>\n",
              "      <th></th>\n",
              "      <th></th>\n",
              "    </tr>\n",
              "  </thead>\n",
              "  <tbody>\n",
              "    <tr>\n",
              "      <th>2018-12-27</th>\n",
              "      <td>2018-12-27</td>\n",
              "      <td>2018-12-27</td>\n",
              "      <td>불안할 땐 금이 최고?… 금펀드 3개월 수익 4.7% 선방</td>\n",
              "      <td>[디지털타임스 김민주 기자] 최근 글로벌 증시 불확실성이 확대된 가운데 안전성 자산...</td>\n",
              "      <td>0</td>\n",
              "    </tr>\n",
              "    <tr>\n",
              "      <th>2018-12-27</th>\n",
              "      <td>2018-12-27</td>\n",
              "      <td>2018-12-27</td>\n",
              "      <td>\"내년 코스피 1900~2400…버팀목은 건설·IT株\"</td>\n",
              "      <td>◆ 2019 증시 전망 / 국내 증권사 리서치센터장 22명 설문조사 ◆\\n 국내 증...</td>\n",
              "      <td>0</td>\n",
              "    </tr>\n",
              "    <tr>\n",
              "      <th>2018-12-27</th>\n",
              "      <td>2018-12-27</td>\n",
              "      <td>2018-12-27</td>\n",
              "      <td>[단독] GIC, 한국 주거용 부동산에 첫 투자</td>\n",
              "      <td>싱가포르 최대 국부펀드인 싱가포르투자청(GIC)이 SK디앤디(SK가스의 부동산 자회...</td>\n",
              "      <td>0</td>\n",
              "    </tr>\n",
              "    <tr>\n",
              "      <th>2018-12-27</th>\n",
              "      <td>2018-12-27</td>\n",
              "      <td>2018-12-27</td>\n",
              "      <td>OLED TV로 브랜드 가치 ↑…프리미엄·스마트 家電 확대가 기회</td>\n",
              "      <td>Cover Story - LG전자 \\n \\nLG전자 강점 분석 \\n김운호 IBK투자...</td>\n",
              "      <td>0</td>\n",
              "    </tr>\n",
              "    <tr>\n",
              "      <th>2018-12-27</th>\n",
              "      <td>2018-12-27</td>\n",
              "      <td>2018-12-27</td>\n",
              "      <td>\"함께 갑시다\" 포용 금융 발 맞추는 은행</td>\n",
              "      <td>사회공헌 앞장서는 은행권 \\n \\n소외계층 금융 지원 \\n청소년 학습 멘토링 프로그...</td>\n",
              "      <td>0</td>\n",
              "    </tr>\n",
              "    <tr>\n",
              "      <th>...</th>\n",
              "      <td>...</td>\n",
              "      <td>...</td>\n",
              "      <td>...</td>\n",
              "      <td>...</td>\n",
              "      <td>...</td>\n",
              "    </tr>\n",
              "    <tr>\n",
              "      <th>2010-05-06</th>\n",
              "      <td>2010-05-06</td>\n",
              "      <td>2010-05-06</td>\n",
              "      <td>인사이드 스포츠 / 여자배구, 6구단이냐 4구단이냐</td>\n",
              "      <td>제6구단이 탄생할까, 아니면 4개 팀으로 축소될까.\\n배구계가 뒤숭숭하다. 2009...</td>\n",
              "      <td>0</td>\n",
              "    </tr>\n",
              "    <tr>\n",
              "      <th>2010-04-26</th>\n",
              "      <td>2010-04-26</td>\n",
              "      <td>2010-04-26</td>\n",
              "      <td>새상품</td>\n",
              "      <td>한국투자증권의 ‘한국투자한국의힘증권1’ 펀드는 세계 경쟁력을 갖춘 한국의 대표 기업...</td>\n",
              "      <td>1</td>\n",
              "    </tr>\n",
              "    <tr>\n",
              "      <th>2010-04-23</th>\n",
              "      <td>2010-04-23</td>\n",
              "      <td>2010-04-23</td>\n",
              "      <td>IT 봄바람은 계속된다</td>\n",
              "      <td>세계경제의 빠른 회복세 속에 정보통신(IT) 산업이 호황을 기록하면서 국내 기업들 ...</td>\n",
              "      <td>0</td>\n",
              "    </tr>\n",
              "    <tr>\n",
              "      <th>2010-04-22</th>\n",
              "      <td>2010-04-22</td>\n",
              "      <td>2010-04-22</td>\n",
              "      <td>IT 봄바람은 계속된다</td>\n",
              "      <td>세계경제의 빠른 회복세 속에 정보통신(IT) 산업이 호황을 기록하면서 국내 기업들 ...</td>\n",
              "      <td>0</td>\n",
              "    </tr>\n",
              "    <tr>\n",
              "      <th>2010-04-19</th>\n",
              "      <td>2010-04-19</td>\n",
              "      <td>2010-04-19</td>\n",
              "      <td>“자전거로 출퇴근하면 금리 더 드려요”</td>\n",
              "      <td>“승용차 요일제에 참여하면 이자를 더 드려요.” \\n환경친화적인 기업이나 개인 고객...</td>\n",
              "      <td>0</td>\n",
              "    </tr>\n",
              "  </tbody>\n",
              "</table>\n",
              "<p>11205 rows × 5 columns</p>\n",
              "</div>"
            ],
            "text/plain": [
              "              datetime  ... up/down\n",
              "datetime                ...        \n",
              "2018-12-27  2018-12-27  ...       0\n",
              "2018-12-27  2018-12-27  ...       0\n",
              "2018-12-27  2018-12-27  ...       0\n",
              "2018-12-27  2018-12-27  ...       0\n",
              "2018-12-27  2018-12-27  ...       0\n",
              "...                ...  ...     ...\n",
              "2010-05-06  2010-05-06  ...       0\n",
              "2010-04-26  2010-04-26  ...       1\n",
              "2010-04-23  2010-04-23  ...       0\n",
              "2010-04-22  2010-04-22  ...       0\n",
              "2010-04-19  2010-04-19  ...       0\n",
              "\n",
              "[11205 rows x 5 columns]"
            ]
          },
          "metadata": {
            "tags": []
          },
          "execution_count": 6
        }
      ]
    },
    {
      "cell_type": "code",
      "metadata": {
        "id": "t7WbBOEvMlEk",
        "colab_type": "code",
        "colab": {}
      },
      "source": [
        "train = pd.DataFrame(train)\n",
        "train.to_csv('/content/drive/My Drive/Colab Notebooks/data/train_final.csv', encoding='utf-8')"
      ],
      "execution_count": 0,
      "outputs": []
    },
    {
      "cell_type": "code",
      "metadata": {
        "id": "EVDZ5UE8MO6m",
        "colab_type": "code",
        "colab": {}
      },
      "source": [
        "test=data.loc[:'2018-12-28']"
      ],
      "execution_count": 0,
      "outputs": []
    },
    {
      "cell_type": "code",
      "metadata": {
        "id": "kke1eS6ghMZy",
        "colab_type": "code",
        "outputId": "4442ba8c-7453-4014-fcef-d1cdfa58bc18",
        "colab": {
          "base_uri": "https://localhost:8080/",
          "height": 450
        }
      },
      "source": [
        "test"
      ],
      "execution_count": 0,
      "outputs": [
        {
          "output_type": "execute_result",
          "data": {
            "text/html": [
              "<div>\n",
              "<style scoped>\n",
              "    .dataframe tbody tr th:only-of-type {\n",
              "        vertical-align: middle;\n",
              "    }\n",
              "\n",
              "    .dataframe tbody tr th {\n",
              "        vertical-align: top;\n",
              "    }\n",
              "\n",
              "    .dataframe thead th {\n",
              "        text-align: right;\n",
              "    }\n",
              "</style>\n",
              "<table border=\"1\" class=\"dataframe\">\n",
              "  <thead>\n",
              "    <tr style=\"text-align: right;\">\n",
              "      <th></th>\n",
              "      <th>datetime</th>\n",
              "      <th>date</th>\n",
              "      <th>headline</th>\n",
              "      <th>content</th>\n",
              "      <th>up/down</th>\n",
              "    </tr>\n",
              "    <tr>\n",
              "      <th>datetime</th>\n",
              "      <th></th>\n",
              "      <th></th>\n",
              "      <th></th>\n",
              "      <th></th>\n",
              "      <th></th>\n",
              "    </tr>\n",
              "  </thead>\n",
              "  <tbody>\n",
              "    <tr>\n",
              "      <th>2019-04-18</th>\n",
              "      <td>2019-04-18</td>\n",
              "      <td>2019-04-18</td>\n",
              "      <td>와그트래블, 135억원 자금 확보…글로벌 공략 나선다</td>\n",
              "      <td>[머니투데이 창조기획팀 이동오 기자] [글로벌 여행 액티비티 예약 플랫폼 와그(WA...</td>\n",
              "      <td>0</td>\n",
              "    </tr>\n",
              "    <tr>\n",
              "      <th>2019-04-18</th>\n",
              "      <td>2019-04-18</td>\n",
              "      <td>2019-04-18</td>\n",
              "      <td>기업은행, 인도 IIT 경영전문대학과 인재양성 업무협약</td>\n",
              "      <td>IBK기업은행은 인도 뉴델리 소재 IIT(Indian Institute of Tec...</td>\n",
              "      <td>0</td>\n",
              "    </tr>\n",
              "    <tr>\n",
              "      <th>2019-04-18</th>\n",
              "      <td>2019-04-18</td>\n",
              "      <td>2019-04-18</td>\n",
              "      <td>기업은행, 인도 IIT 경영전문대학과 인재양성 업무협약 체결</td>\n",
              "      <td>[머니투데이 박광범 기자] 최성재 IBK기업으행 글로벌사업부 본부장(왼쪽)과 산지브...</td>\n",
              "      <td>0</td>\n",
              "    </tr>\n",
              "    <tr>\n",
              "      <th>2019-04-18</th>\n",
              "      <td>2019-04-18</td>\n",
              "      <td>2019-04-18</td>\n",
              "      <td>[시장을 이겨라] \"반등하는 4월 장… 美 재무부 환율보고서·기업 실적 주목\"</td>\n",
              "      <td>[머니투데이 양태연 머니투데이방송 PD] \\n\\n\\n\\n&lt;시장을 이겨라&gt;\\n\\n이슈...</td>\n",
              "      <td>0</td>\n",
              "    </tr>\n",
              "    <tr>\n",
              "      <th>2019-04-18</th>\n",
              "      <td>2019-04-18</td>\n",
              "      <td>2019-04-18</td>\n",
              "      <td>미래에셋자산운용, 단기채권 투자·주식 페어트레이딩 ‘쌍끌이 전략’</td>\n",
              "      <td>안정적인 채권 이자수익과 더불어 페어트레이딩 전략으로 초과수익을 추구하는 미래에셋스...</td>\n",
              "      <td>0</td>\n",
              "    </tr>\n",
              "    <tr>\n",
              "      <th>...</th>\n",
              "      <td>...</td>\n",
              "      <td>...</td>\n",
              "      <td>...</td>\n",
              "      <td>...</td>\n",
              "      <td>...</td>\n",
              "    </tr>\n",
              "    <tr>\n",
              "      <th>2019-01-02</th>\n",
              "      <td>2019-01-02</td>\n",
              "      <td>2019-01-02</td>\n",
              "      <td>김도진 기업은행장 \"소상공인·자영업자의 동반자 돼야\"</td>\n",
              "      <td>[머니투데이 한은정 기자] [[신년사]\"영업망 최적화·조직문화 최적화·데이터 기반의...</td>\n",
              "      <td>0</td>\n",
              "    </tr>\n",
              "    <tr>\n",
              "      <th>2019-01-02</th>\n",
              "      <td>2019-01-02</td>\n",
              "      <td>2019-01-02</td>\n",
              "      <td>[신년사] 김영규 IBK투자증권 사장 \"中企와 더불어 성장하는 정책금융 리더 목표\"</td>\n",
              "      <td>김영규 IBK투자증권 사장은 2일 신년사를 통해 중소기업과 더불어 성장하는 정책금융...</td>\n",
              "      <td>0</td>\n",
              "    </tr>\n",
              "    <tr>\n",
              "      <th>2019-01-02</th>\n",
              "      <td>2019-01-02</td>\n",
              "      <td>2019-01-02</td>\n",
              "      <td>[신년사]김도진 기업은행장 \"소상공인·자영업자 동반자 돼야\"</td>\n",
              "      <td>[ 오정민 기자 ] 김도진 IBK기업은행장은 2일 신년사를 통해 \"소상공인·자영업자...</td>\n",
              "      <td>0</td>\n",
              "    </tr>\n",
              "    <tr>\n",
              "      <th>2019-01-02</th>\n",
              "      <td>2019-01-02</td>\n",
              "      <td>2019-01-02</td>\n",
              "      <td>[Hot-Line] \"모헤닉게라지스, 내년 IPO 추진 예상\"</td>\n",
              "      <td>IBK투자증권은 2일 모헤닉게라지스에 대해 내년 기업공개(IPO)를 추진할 것으로 ...</td>\n",
              "      <td>0</td>\n",
              "    </tr>\n",
              "    <tr>\n",
              "      <th>2019-01-02</th>\n",
              "      <td>2019-01-02</td>\n",
              "      <td>2019-01-02</td>\n",
              "      <td>롯데정보통신, 확실한 성장세…관건은 속도</td>\n",
              "      <td>[머니투데이 반준환 기자] 증권가에서는 롯데정보통신이 올해 큰 폭의 성장을 할 것으...</td>\n",
              "      <td>0</td>\n",
              "    </tr>\n",
              "  </tbody>\n",
              "</table>\n",
              "<p>795 rows × 5 columns</p>\n",
              "</div>"
            ],
            "text/plain": [
              "              datetime  ... up/down\n",
              "datetime                ...        \n",
              "2019-04-18  2019-04-18  ...       0\n",
              "2019-04-18  2019-04-18  ...       0\n",
              "2019-04-18  2019-04-18  ...       0\n",
              "2019-04-18  2019-04-18  ...       0\n",
              "2019-04-18  2019-04-18  ...       0\n",
              "...                ...  ...     ...\n",
              "2019-01-02  2019-01-02  ...       0\n",
              "2019-01-02  2019-01-02  ...       0\n",
              "2019-01-02  2019-01-02  ...       0\n",
              "2019-01-02  2019-01-02  ...       0\n",
              "2019-01-02  2019-01-02  ...       0\n",
              "\n",
              "[795 rows x 5 columns]"
            ]
          },
          "metadata": {
            "tags": []
          },
          "execution_count": 8
        }
      ]
    },
    {
      "cell_type": "code",
      "metadata": {
        "id": "rAnsiBf0Ml-a",
        "colab_type": "code",
        "colab": {}
      },
      "source": [
        "test = pd.DataFrame(test)\n",
        "test.to_csv('/content/drive/My Drive/Colab Notebooks/data/test_final.csv', encoding='utf-8')"
      ],
      "execution_count": 0,
      "outputs": []
    },
    {
      "cell_type": "code",
      "metadata": {
        "id": "a48KWETCF3jW",
        "colab_type": "code",
        "colab": {}
      },
      "source": [
        "test=data.loc[:'2018-12-28']"
      ],
      "execution_count": 0,
      "outputs": []
    },
    {
      "cell_type": "code",
      "metadata": {
        "id": "FbwTGny0F80d",
        "colab_type": "code",
        "outputId": "ee0f13c5-563b-43c3-9786-513b1f99e044",
        "colab": {
          "base_uri": "https://localhost:8080/",
          "height": 419
        }
      },
      "source": [
        "test"
      ],
      "execution_count": 0,
      "outputs": [
        {
          "output_type": "execute_result",
          "data": {
            "text/html": [
              "<div>\n",
              "<style scoped>\n",
              "    .dataframe tbody tr th:only-of-type {\n",
              "        vertical-align: middle;\n",
              "    }\n",
              "\n",
              "    .dataframe tbody tr th {\n",
              "        vertical-align: top;\n",
              "    }\n",
              "\n",
              "    .dataframe thead th {\n",
              "        text-align: right;\n",
              "    }\n",
              "</style>\n",
              "<table border=\"1\" class=\"dataframe\">\n",
              "  <thead>\n",
              "    <tr style=\"text-align: right;\">\n",
              "      <th></th>\n",
              "      <th>datetime</th>\n",
              "      <th>date</th>\n",
              "      <th>headline</th>\n",
              "      <th>content</th>\n",
              "      <th>up/down</th>\n",
              "    </tr>\n",
              "  </thead>\n",
              "  <tbody>\n",
              "    <tr>\n",
              "      <th>0</th>\n",
              "      <td>2019-04-18</td>\n",
              "      <td>2019-04-18</td>\n",
              "      <td>와그트래블, 135억원 자금 확보…글로벌 공략 나선다</td>\n",
              "      <td>[머니투데이 창조기획팀 이동오 기자] [글로벌 여행 액티비티 예약 플랫폼 와그(WA...</td>\n",
              "      <td>0</td>\n",
              "    </tr>\n",
              "    <tr>\n",
              "      <th>1</th>\n",
              "      <td>2019-04-18</td>\n",
              "      <td>2019-04-18</td>\n",
              "      <td>기업은행, 인도 IIT 경영전문대학과 인재양성 업무협약</td>\n",
              "      <td>IBK기업은행은 인도 뉴델리 소재 IIT(Indian Institute of Tec...</td>\n",
              "      <td>0</td>\n",
              "    </tr>\n",
              "    <tr>\n",
              "      <th>2</th>\n",
              "      <td>2019-04-18</td>\n",
              "      <td>2019-04-18</td>\n",
              "      <td>기업은행, 인도 IIT 경영전문대학과 인재양성 업무협약 체결</td>\n",
              "      <td>[머니투데이 박광범 기자] 최성재 IBK기업으행 글로벌사업부 본부장(왼쪽)과 산지브...</td>\n",
              "      <td>0</td>\n",
              "    </tr>\n",
              "    <tr>\n",
              "      <th>3</th>\n",
              "      <td>2019-04-18</td>\n",
              "      <td>2019-04-18</td>\n",
              "      <td>[시장을 이겨라] \"반등하는 4월 장… 美 재무부 환율보고서·기업 실적 주목\"</td>\n",
              "      <td>[머니투데이 양태연 머니투데이방송 PD] \\n\\n\\n\\n&lt;시장을 이겨라&gt;\\n\\n이슈...</td>\n",
              "      <td>0</td>\n",
              "    </tr>\n",
              "    <tr>\n",
              "      <th>4</th>\n",
              "      <td>2019-04-18</td>\n",
              "      <td>2019-04-18</td>\n",
              "      <td>미래에셋자산운용, 단기채권 투자·주식 페어트레이딩 ‘쌍끌이 전략’</td>\n",
              "      <td>안정적인 채권 이자수익과 더불어 페어트레이딩 전략으로 초과수익을 추구하는 미래에셋스...</td>\n",
              "      <td>0</td>\n",
              "    </tr>\n",
              "    <tr>\n",
              "      <th>...</th>\n",
              "      <td>...</td>\n",
              "      <td>...</td>\n",
              "      <td>...</td>\n",
              "      <td>...</td>\n",
              "      <td>...</td>\n",
              "    </tr>\n",
              "    <tr>\n",
              "      <th>2014</th>\n",
              "      <td>2018-06-29</td>\n",
              "      <td>2018-06-29</td>\n",
              "      <td>[한경로보뉴스] '대한항공우' 5% 이상 상승, IBK증권 매수 창구 상위에 랭킹</td>\n",
              "      <td>전일 -0.37% 하락하며 장을 마친 대한항공우는 장 시작과 동시에 전일보다 5.9...</td>\n",
              "      <td>1</td>\n",
              "    </tr>\n",
              "    <tr>\n",
              "      <th>2015</th>\n",
              "      <td>2018-06-29</td>\n",
              "      <td>2018-06-29</td>\n",
              "      <td>[Hot-Line] \"오뚜기, 가정간편식 매출 호조에 2분기 실적 ↑\"</td>\n",
              "      <td>IBK투자증권은 29일 오뚜기에 대해 가공밥, 냉동 간편식 등 가정 간편식(HMR)...</td>\n",
              "      <td>1</td>\n",
              "    </tr>\n",
              "    <tr>\n",
              "      <th>2016</th>\n",
              "      <td>2018-06-29</td>\n",
              "      <td>2018-06-29</td>\n",
              "      <td>은행권 채용비리 후 첫 공채…남녀 합격비율은 '그대로'</td>\n",
              "      <td>[머니투데이 변휘 기자] [기업銀·우리銀, 합격자 남녀성비 '65대 35 수준'…필...</td>\n",
              "      <td>1</td>\n",
              "    </tr>\n",
              "    <tr>\n",
              "      <th>2017</th>\n",
              "      <td>2018-06-29</td>\n",
              "      <td>2018-06-29</td>\n",
              "      <td>6월30일 인사</td>\n",
              "      <td>⊙ 법무부 &lt;승진&gt; ◇4급 △경북북부제1교도소 시설과장 김창섭 △법무부 기획조정실 ...</td>\n",
              "      <td>1</td>\n",
              "    </tr>\n",
              "    <tr>\n",
              "      <th>2018</th>\n",
              "      <td>2018-06-29</td>\n",
              "      <td>2018-06-29</td>\n",
              "      <td>외국인 매도 공세에 코스피, 연중 최저치 또 경신</td>\n",
              "      <td>코스피가 외국인의 매도 공세에 1년1개월 만에 최저치를 기록했다. 원·달러 환율은 ...</td>\n",
              "      <td>1</td>\n",
              "    </tr>\n",
              "  </tbody>\n",
              "</table>\n",
              "<p>2019 rows × 5 columns</p>\n",
              "</div>"
            ],
            "text/plain": [
              "        datetime  ... up/down\n",
              "0     2019-04-18  ...       0\n",
              "1     2019-04-18  ...       0\n",
              "2     2019-04-18  ...       0\n",
              "3     2019-04-18  ...       0\n",
              "4     2019-04-18  ...       0\n",
              "...          ...  ...     ...\n",
              "2014  2018-06-29  ...       1\n",
              "2015  2018-06-29  ...       1\n",
              "2016  2018-06-29  ...       1\n",
              "2017  2018-06-29  ...       1\n",
              "2018  2018-06-29  ...       1\n",
              "\n",
              "[2019 rows x 5 columns]"
            ]
          },
          "metadata": {
            "tags": []
          },
          "execution_count": 7
        }
      ]
    },
    {
      "cell_type": "code",
      "metadata": {
        "id": "4SeQITCpEfVF",
        "colab_type": "code",
        "outputId": "5e371ce0-521c-4bf8-8746-2dca309c066e",
        "colab": {
          "base_uri": "https://localhost:8080/",
          "height": 450
        }
      },
      "source": [
        "train[['headline', 'content', 'up/down']]"
      ],
      "execution_count": 0,
      "outputs": [
        {
          "output_type": "execute_result",
          "data": {
            "text/html": [
              "<div>\n",
              "<style scoped>\n",
              "    .dataframe tbody tr th:only-of-type {\n",
              "        vertical-align: middle;\n",
              "    }\n",
              "\n",
              "    .dataframe tbody tr th {\n",
              "        vertical-align: top;\n",
              "    }\n",
              "\n",
              "    .dataframe thead th {\n",
              "        text-align: right;\n",
              "    }\n",
              "</style>\n",
              "<table border=\"1\" class=\"dataframe\">\n",
              "  <thead>\n",
              "    <tr style=\"text-align: right;\">\n",
              "      <th></th>\n",
              "      <th>headline</th>\n",
              "      <th>content</th>\n",
              "      <th>up/down</th>\n",
              "    </tr>\n",
              "    <tr>\n",
              "      <th>datetime</th>\n",
              "      <th></th>\n",
              "      <th></th>\n",
              "      <th></th>\n",
              "    </tr>\n",
              "  </thead>\n",
              "  <tbody>\n",
              "    <tr>\n",
              "      <th>2018-12-27</th>\n",
              "      <td>불안할 땐 금이 최고?… 금펀드 3개월 수익 4.7% 선방</td>\n",
              "      <td>[디지털타임스 김민주 기자] 최근 글로벌 증시 불확실성이 확대된 가운데 안전성 자산...</td>\n",
              "      <td>0</td>\n",
              "    </tr>\n",
              "    <tr>\n",
              "      <th>2018-12-27</th>\n",
              "      <td>\"내년 코스피 1900~2400…버팀목은 건설·IT株\"</td>\n",
              "      <td>◆ 2019 증시 전망 / 국내 증권사 리서치센터장 22명 설문조사 ◆\\n 국내 증...</td>\n",
              "      <td>0</td>\n",
              "    </tr>\n",
              "    <tr>\n",
              "      <th>2018-12-27</th>\n",
              "      <td>[단독] GIC, 한국 주거용 부동산에 첫 투자</td>\n",
              "      <td>싱가포르 최대 국부펀드인 싱가포르투자청(GIC)이 SK디앤디(SK가스의 부동산 자회...</td>\n",
              "      <td>0</td>\n",
              "    </tr>\n",
              "    <tr>\n",
              "      <th>2018-12-27</th>\n",
              "      <td>OLED TV로 브랜드 가치 ↑…프리미엄·스마트 家電 확대가 기회</td>\n",
              "      <td>Cover Story - LG전자 \\n \\nLG전자 강점 분석 \\n김운호 IBK투자...</td>\n",
              "      <td>0</td>\n",
              "    </tr>\n",
              "    <tr>\n",
              "      <th>2018-12-27</th>\n",
              "      <td>\"함께 갑시다\" 포용 금융 발 맞추는 은행</td>\n",
              "      <td>사회공헌 앞장서는 은행권 \\n \\n소외계층 금융 지원 \\n청소년 학습 멘토링 프로그...</td>\n",
              "      <td>0</td>\n",
              "    </tr>\n",
              "    <tr>\n",
              "      <th>...</th>\n",
              "      <td>...</td>\n",
              "      <td>...</td>\n",
              "      <td>...</td>\n",
              "    </tr>\n",
              "    <tr>\n",
              "      <th>2010-05-06</th>\n",
              "      <td>인사이드 스포츠 / 여자배구, 6구단이냐 4구단이냐</td>\n",
              "      <td>제6구단이 탄생할까, 아니면 4개 팀으로 축소될까.\\n배구계가 뒤숭숭하다. 2009...</td>\n",
              "      <td>0</td>\n",
              "    </tr>\n",
              "    <tr>\n",
              "      <th>2010-04-26</th>\n",
              "      <td>새상품</td>\n",
              "      <td>한국투자증권의 ‘한국투자한국의힘증권1’ 펀드는 세계 경쟁력을 갖춘 한국의 대표 기업...</td>\n",
              "      <td>1</td>\n",
              "    </tr>\n",
              "    <tr>\n",
              "      <th>2010-04-23</th>\n",
              "      <td>IT 봄바람은 계속된다</td>\n",
              "      <td>세계경제의 빠른 회복세 속에 정보통신(IT) 산업이 호황을 기록하면서 국내 기업들 ...</td>\n",
              "      <td>0</td>\n",
              "    </tr>\n",
              "    <tr>\n",
              "      <th>2010-04-22</th>\n",
              "      <td>IT 봄바람은 계속된다</td>\n",
              "      <td>세계경제의 빠른 회복세 속에 정보통신(IT) 산업이 호황을 기록하면서 국내 기업들 ...</td>\n",
              "      <td>0</td>\n",
              "    </tr>\n",
              "    <tr>\n",
              "      <th>2010-04-19</th>\n",
              "      <td>“자전거로 출퇴근하면 금리 더 드려요”</td>\n",
              "      <td>“승용차 요일제에 참여하면 이자를 더 드려요.” \\n환경친화적인 기업이나 개인 고객...</td>\n",
              "      <td>0</td>\n",
              "    </tr>\n",
              "  </tbody>\n",
              "</table>\n",
              "<p>11205 rows × 3 columns</p>\n",
              "</div>"
            ],
            "text/plain": [
              "                                        headline  ... up/down\n",
              "datetime                                          ...        \n",
              "2018-12-27      불안할 땐 금이 최고?… 금펀드 3개월 수익 4.7% 선방  ...       0\n",
              "2018-12-27        \"내년 코스피 1900~2400…버팀목은 건설·IT株\"  ...       0\n",
              "2018-12-27            [단독] GIC, 한국 주거용 부동산에 첫 투자  ...       0\n",
              "2018-12-27  OLED TV로 브랜드 가치 ↑…프리미엄·스마트 家電 확대가 기회  ...       0\n",
              "2018-12-27               \"함께 갑시다\" 포용 금융 발 맞추는 은행  ...       0\n",
              "...                                          ...  ...     ...\n",
              "2010-05-06          인사이드 스포츠 / 여자배구, 6구단이냐 4구단이냐  ...       0\n",
              "2010-04-26                                   새상품  ...       1\n",
              "2010-04-23                          IT 봄바람은 계속된다  ...       0\n",
              "2010-04-22                          IT 봄바람은 계속된다  ...       0\n",
              "2010-04-19                 “자전거로 출퇴근하면 금리 더 드려요”  ...       0\n",
              "\n",
              "[11205 rows x 3 columns]"
            ]
          },
          "metadata": {
            "tags": []
          },
          "execution_count": 11
        }
      ]
    },
    {
      "cell_type": "code",
      "metadata": {
        "id": "odF2jyqViZvl",
        "colab_type": "code",
        "colab": {}
      },
      "source": [
        "train = pd.DataFrame(train)\n",
        "train.to_csv('/content/drive/My Drive/Colab Notebooks/data/train_final.csv', encoding='utf-8')"
      ],
      "execution_count": 0,
      "outputs": []
    },
    {
      "cell_type": "code",
      "metadata": {
        "id": "UQBgfYGoiZx2",
        "colab_type": "code",
        "colab": {}
      },
      "source": [
        "train=train[['headline', 'up/down']]"
      ],
      "execution_count": 0,
      "outputs": []
    },
    {
      "cell_type": "code",
      "metadata": {
        "id": "aJmWQP5GiZ0W",
        "colab_type": "code",
        "colab": {}
      },
      "source": [
        "train = pd.DataFrame(train)\n",
        "train.to_csv('/content/drive/My Drive/Colab Notebooks/data/train_sum_ibk.csv', encoding='utf-8')"
      ],
      "execution_count": 0,
      "outputs": []
    },
    {
      "cell_type": "code",
      "metadata": {
        "id": "cfVKCcFHhMdc",
        "colab_type": "code",
        "colab": {}
      },
      "source": [
        "test=data.loc[:'2018-12-28']"
      ],
      "execution_count": 0,
      "outputs": []
    },
    {
      "cell_type": "code",
      "metadata": {
        "id": "Haq-rHurhMfw",
        "colab_type": "code",
        "outputId": "247cf357-d929-4290-ac44-2a98314b6f7a",
        "colab": {
          "base_uri": "https://localhost:8080/",
          "height": 450
        }
      },
      "source": [
        "test[['headline', 'content', 'up/down']]"
      ],
      "execution_count": 0,
      "outputs": [
        {
          "output_type": "execute_result",
          "data": {
            "text/html": [
              "<div>\n",
              "<style scoped>\n",
              "    .dataframe tbody tr th:only-of-type {\n",
              "        vertical-align: middle;\n",
              "    }\n",
              "\n",
              "    .dataframe tbody tr th {\n",
              "        vertical-align: top;\n",
              "    }\n",
              "\n",
              "    .dataframe thead th {\n",
              "        text-align: right;\n",
              "    }\n",
              "</style>\n",
              "<table border=\"1\" class=\"dataframe\">\n",
              "  <thead>\n",
              "    <tr style=\"text-align: right;\">\n",
              "      <th></th>\n",
              "      <th>headline</th>\n",
              "      <th>content</th>\n",
              "      <th>up/down</th>\n",
              "    </tr>\n",
              "    <tr>\n",
              "      <th>datetime</th>\n",
              "      <th></th>\n",
              "      <th></th>\n",
              "      <th></th>\n",
              "    </tr>\n",
              "  </thead>\n",
              "  <tbody>\n",
              "    <tr>\n",
              "      <th>2019-04-18</th>\n",
              "      <td>와그트래블, 135억원 자금 확보…글로벌 공략 나선다</td>\n",
              "      <td>[머니투데이 창조기획팀 이동오 기자] [글로벌 여행 액티비티 예약 플랫폼 와그(WA...</td>\n",
              "      <td>0</td>\n",
              "    </tr>\n",
              "    <tr>\n",
              "      <th>2019-04-18</th>\n",
              "      <td>기업은행, 인도 IIT 경영전문대학과 인재양성 업무협약</td>\n",
              "      <td>IBK기업은행은 인도 뉴델리 소재 IIT(Indian Institute of Tec...</td>\n",
              "      <td>0</td>\n",
              "    </tr>\n",
              "    <tr>\n",
              "      <th>2019-04-18</th>\n",
              "      <td>기업은행, 인도 IIT 경영전문대학과 인재양성 업무협약 체결</td>\n",
              "      <td>[머니투데이 박광범 기자] 최성재 IBK기업으행 글로벌사업부 본부장(왼쪽)과 산지브...</td>\n",
              "      <td>0</td>\n",
              "    </tr>\n",
              "    <tr>\n",
              "      <th>2019-04-18</th>\n",
              "      <td>[시장을 이겨라] \"반등하는 4월 장… 美 재무부 환율보고서·기업 실적 주목\"</td>\n",
              "      <td>[머니투데이 양태연 머니투데이방송 PD] \\n\\n\\n\\n&lt;시장을 이겨라&gt;\\n\\n이슈...</td>\n",
              "      <td>0</td>\n",
              "    </tr>\n",
              "    <tr>\n",
              "      <th>2019-04-18</th>\n",
              "      <td>미래에셋자산운용, 단기채권 투자·주식 페어트레이딩 ‘쌍끌이 전략’</td>\n",
              "      <td>안정적인 채권 이자수익과 더불어 페어트레이딩 전략으로 초과수익을 추구하는 미래에셋스...</td>\n",
              "      <td>0</td>\n",
              "    </tr>\n",
              "    <tr>\n",
              "      <th>...</th>\n",
              "      <td>...</td>\n",
              "      <td>...</td>\n",
              "      <td>...</td>\n",
              "    </tr>\n",
              "    <tr>\n",
              "      <th>2019-01-02</th>\n",
              "      <td>김도진 기업은행장 \"소상공인·자영업자의 동반자 돼야\"</td>\n",
              "      <td>[머니투데이 한은정 기자] [[신년사]\"영업망 최적화·조직문화 최적화·데이터 기반의...</td>\n",
              "      <td>0</td>\n",
              "    </tr>\n",
              "    <tr>\n",
              "      <th>2019-01-02</th>\n",
              "      <td>[신년사] 김영규 IBK투자증권 사장 \"中企와 더불어 성장하는 정책금융 리더 목표\"</td>\n",
              "      <td>김영규 IBK투자증권 사장은 2일 신년사를 통해 중소기업과 더불어 성장하는 정책금융...</td>\n",
              "      <td>0</td>\n",
              "    </tr>\n",
              "    <tr>\n",
              "      <th>2019-01-02</th>\n",
              "      <td>[신년사]김도진 기업은행장 \"소상공인·자영업자 동반자 돼야\"</td>\n",
              "      <td>[ 오정민 기자 ] 김도진 IBK기업은행장은 2일 신년사를 통해 \"소상공인·자영업자...</td>\n",
              "      <td>0</td>\n",
              "    </tr>\n",
              "    <tr>\n",
              "      <th>2019-01-02</th>\n",
              "      <td>[Hot-Line] \"모헤닉게라지스, 내년 IPO 추진 예상\"</td>\n",
              "      <td>IBK투자증권은 2일 모헤닉게라지스에 대해 내년 기업공개(IPO)를 추진할 것으로 ...</td>\n",
              "      <td>0</td>\n",
              "    </tr>\n",
              "    <tr>\n",
              "      <th>2019-01-02</th>\n",
              "      <td>롯데정보통신, 확실한 성장세…관건은 속도</td>\n",
              "      <td>[머니투데이 반준환 기자] 증권가에서는 롯데정보통신이 올해 큰 폭의 성장을 할 것으...</td>\n",
              "      <td>0</td>\n",
              "    </tr>\n",
              "  </tbody>\n",
              "</table>\n",
              "<p>795 rows × 3 columns</p>\n",
              "</div>"
            ],
            "text/plain": [
              "                                                  headline  ... up/down\n",
              "datetime                                                    ...        \n",
              "2019-04-18                   와그트래블, 135억원 자금 확보…글로벌 공략 나선다  ...       0\n",
              "2019-04-18                  기업은행, 인도 IIT 경영전문대학과 인재양성 업무협약  ...       0\n",
              "2019-04-18               기업은행, 인도 IIT 경영전문대학과 인재양성 업무협약 체결  ...       0\n",
              "2019-04-18     [시장을 이겨라] \"반등하는 4월 장… 美 재무부 환율보고서·기업 실적 주목\"  ...       0\n",
              "2019-04-18            미래에셋자산운용, 단기채권 투자·주식 페어트레이딩 ‘쌍끌이 전략’  ...       0\n",
              "...                                                    ...  ...     ...\n",
              "2019-01-02                   김도진 기업은행장 \"소상공인·자영업자의 동반자 돼야\"  ...       0\n",
              "2019-01-02  [신년사] 김영규 IBK투자증권 사장 \"中企와 더불어 성장하는 정책금융 리더 목표\"  ...       0\n",
              "2019-01-02               [신년사]김도진 기업은행장 \"소상공인·자영업자 동반자 돼야\"  ...       0\n",
              "2019-01-02              [Hot-Line] \"모헤닉게라지스, 내년 IPO 추진 예상\"  ...       0\n",
              "2019-01-02                          롯데정보통신, 확실한 성장세…관건은 속도  ...       0\n",
              "\n",
              "[795 rows x 3 columns]"
            ]
          },
          "metadata": {
            "tags": []
          },
          "execution_count": 15
        }
      ]
    },
    {
      "cell_type": "code",
      "metadata": {
        "id": "wXzWU8KthMbz",
        "colab_type": "code",
        "colab": {}
      },
      "source": [
        "test = pd.DataFrame(test)\n",
        "test.to_csv('/content/drive/My Drive/Colab Notebooks/data/test_final.csv', encoding='utf-8')"
      ],
      "execution_count": 0,
      "outputs": []
    },
    {
      "cell_type": "code",
      "metadata": {
        "id": "odcAqtUuinlA",
        "colab_type": "code",
        "colab": {}
      },
      "source": [
        "data = pd.read_csv('/content/drive/My Drive/Colab Notebooks/data/test_final.csv')"
      ],
      "execution_count": 0,
      "outputs": []
    },
    {
      "cell_type": "code",
      "metadata": {
        "id": "gaAhjtgVFf5D",
        "colab_type": "code",
        "outputId": "dea640cb-8134-40df-9ebf-d7b8840f5d24",
        "colab": {
          "base_uri": "https://localhost:8080/",
          "height": 419
        }
      },
      "source": [
        "data"
      ],
      "execution_count": 0,
      "outputs": [
        {
          "output_type": "execute_result",
          "data": {
            "text/html": [
              "<div>\n",
              "<style scoped>\n",
              "    .dataframe tbody tr th:only-of-type {\n",
              "        vertical-align: middle;\n",
              "    }\n",
              "\n",
              "    .dataframe tbody tr th {\n",
              "        vertical-align: top;\n",
              "    }\n",
              "\n",
              "    .dataframe thead th {\n",
              "        text-align: right;\n",
              "    }\n",
              "</style>\n",
              "<table border=\"1\" class=\"dataframe\">\n",
              "  <thead>\n",
              "    <tr style=\"text-align: right;\">\n",
              "      <th></th>\n",
              "      <th>datetime</th>\n",
              "      <th>datetime.1</th>\n",
              "      <th>date</th>\n",
              "      <th>headline</th>\n",
              "      <th>content</th>\n",
              "      <th>up/down</th>\n",
              "    </tr>\n",
              "  </thead>\n",
              "  <tbody>\n",
              "    <tr>\n",
              "      <th>0</th>\n",
              "      <td>2019-04-18</td>\n",
              "      <td>2019-04-18</td>\n",
              "      <td>2019-04-18</td>\n",
              "      <td>와그트래블, 135억원 자금 확보…글로벌 공략 나선다</td>\n",
              "      <td>[머니투데이 창조기획팀 이동오 기자] [글로벌 여행 액티비티 예약 플랫폼 와그(WA...</td>\n",
              "      <td>0</td>\n",
              "    </tr>\n",
              "    <tr>\n",
              "      <th>1</th>\n",
              "      <td>2019-04-18</td>\n",
              "      <td>2019-04-18</td>\n",
              "      <td>2019-04-18</td>\n",
              "      <td>기업은행, 인도 IIT 경영전문대학과 인재양성 업무협약</td>\n",
              "      <td>IBK기업은행은 인도 뉴델리 소재 IIT(Indian Institute of Tec...</td>\n",
              "      <td>0</td>\n",
              "    </tr>\n",
              "    <tr>\n",
              "      <th>2</th>\n",
              "      <td>2019-04-18</td>\n",
              "      <td>2019-04-18</td>\n",
              "      <td>2019-04-18</td>\n",
              "      <td>기업은행, 인도 IIT 경영전문대학과 인재양성 업무협약 체결</td>\n",
              "      <td>[머니투데이 박광범 기자] 최성재 IBK기업으행 글로벌사업부 본부장(왼쪽)과 산지브...</td>\n",
              "      <td>0</td>\n",
              "    </tr>\n",
              "    <tr>\n",
              "      <th>3</th>\n",
              "      <td>2019-04-18</td>\n",
              "      <td>2019-04-18</td>\n",
              "      <td>2019-04-18</td>\n",
              "      <td>[시장을 이겨라] \"반등하는 4월 장… 美 재무부 환율보고서·기업 실적 주목\"</td>\n",
              "      <td>[머니투데이 양태연 머니투데이방송 PD] \\n\\n\\n\\n&lt;시장을 이겨라&gt;\\n\\n이슈...</td>\n",
              "      <td>0</td>\n",
              "    </tr>\n",
              "    <tr>\n",
              "      <th>4</th>\n",
              "      <td>2019-04-18</td>\n",
              "      <td>2019-04-18</td>\n",
              "      <td>2019-04-18</td>\n",
              "      <td>미래에셋자산운용, 단기채권 투자·주식 페어트레이딩 ‘쌍끌이 전략’</td>\n",
              "      <td>안정적인 채권 이자수익과 더불어 페어트레이딩 전략으로 초과수익을 추구하는 미래에셋스...</td>\n",
              "      <td>0</td>\n",
              "    </tr>\n",
              "    <tr>\n",
              "      <th>...</th>\n",
              "      <td>...</td>\n",
              "      <td>...</td>\n",
              "      <td>...</td>\n",
              "      <td>...</td>\n",
              "      <td>...</td>\n",
              "      <td>...</td>\n",
              "    </tr>\n",
              "    <tr>\n",
              "      <th>790</th>\n",
              "      <td>2019-01-02</td>\n",
              "      <td>2019-01-02</td>\n",
              "      <td>2019-01-02</td>\n",
              "      <td>김도진 기업은행장 \"소상공인·자영업자의 동반자 돼야\"</td>\n",
              "      <td>[머니투데이 한은정 기자] [[신년사]\"영업망 최적화·조직문화 최적화·데이터 기반의...</td>\n",
              "      <td>0</td>\n",
              "    </tr>\n",
              "    <tr>\n",
              "      <th>791</th>\n",
              "      <td>2019-01-02</td>\n",
              "      <td>2019-01-02</td>\n",
              "      <td>2019-01-02</td>\n",
              "      <td>[신년사] 김영규 IBK투자증권 사장 \"中企와 더불어 성장하는 정책금융 리더 목표\"</td>\n",
              "      <td>김영규 IBK투자증권 사장은 2일 신년사를 통해 중소기업과 더불어 성장하는 정책금융...</td>\n",
              "      <td>0</td>\n",
              "    </tr>\n",
              "    <tr>\n",
              "      <th>792</th>\n",
              "      <td>2019-01-02</td>\n",
              "      <td>2019-01-02</td>\n",
              "      <td>2019-01-02</td>\n",
              "      <td>[신년사]김도진 기업은행장 \"소상공인·자영업자 동반자 돼야\"</td>\n",
              "      <td>[ 오정민 기자 ] 김도진 IBK기업은행장은 2일 신년사를 통해 \"소상공인·자영업자...</td>\n",
              "      <td>0</td>\n",
              "    </tr>\n",
              "    <tr>\n",
              "      <th>793</th>\n",
              "      <td>2019-01-02</td>\n",
              "      <td>2019-01-02</td>\n",
              "      <td>2019-01-02</td>\n",
              "      <td>[Hot-Line] \"모헤닉게라지스, 내년 IPO 추진 예상\"</td>\n",
              "      <td>IBK투자증권은 2일 모헤닉게라지스에 대해 내년 기업공개(IPO)를 추진할 것으로 ...</td>\n",
              "      <td>0</td>\n",
              "    </tr>\n",
              "    <tr>\n",
              "      <th>794</th>\n",
              "      <td>2019-01-02</td>\n",
              "      <td>2019-01-02</td>\n",
              "      <td>2019-01-02</td>\n",
              "      <td>롯데정보통신, 확실한 성장세…관건은 속도</td>\n",
              "      <td>[머니투데이 반준환 기자] 증권가에서는 롯데정보통신이 올해 큰 폭의 성장을 할 것으...</td>\n",
              "      <td>0</td>\n",
              "    </tr>\n",
              "  </tbody>\n",
              "</table>\n",
              "<p>795 rows × 6 columns</p>\n",
              "</div>"
            ],
            "text/plain": [
              "       datetime  ... up/down\n",
              "0    2019-04-18  ...       0\n",
              "1    2019-04-18  ...       0\n",
              "2    2019-04-18  ...       0\n",
              "3    2019-04-18  ...       0\n",
              "4    2019-04-18  ...       0\n",
              "..          ...  ...     ...\n",
              "790  2019-01-02  ...       0\n",
              "791  2019-01-02  ...       0\n",
              "792  2019-01-02  ...       0\n",
              "793  2019-01-02  ...       0\n",
              "794  2019-01-02  ...       0\n",
              "\n",
              "[795 rows x 6 columns]"
            ]
          },
          "metadata": {
            "tags": []
          },
          "execution_count": 22
        }
      ]
    },
    {
      "cell_type": "code",
      "metadata": {
        "id": "CFsIGt2jinnh",
        "colab_type": "code",
        "colab": {}
      },
      "source": [
        "test = pd.DataFrame(test)\n",
        "test.to_csv('/content/drive/My Drive/Colab Notebooks/data/test_sum_ibk.csv', encoding='utf-8')"
      ],
      "execution_count": 0,
      "outputs": []
    },
    {
      "cell_type": "code",
      "metadata": {
        "id": "nCV6riJJa35n",
        "colab_type": "code",
        "colab": {}
      },
      "source": [
        "train=data[['headline', 'content','up/down']]"
      ],
      "execution_count": 0,
      "outputs": []
    },
    {
      "cell_type": "code",
      "metadata": {
        "id": "b27kwFikbPBN",
        "colab_type": "code",
        "colab": {}
      },
      "source": [
        "train = pd.DataFrame(train)\n",
        "train.to_csv('/content/drive/My Drive/Colab Notebooks/data/train_ibk_title.csv', encoding='utf-8')"
      ],
      "execution_count": 0,
      "outputs": []
    },
    {
      "cell_type": "code",
      "metadata": {
        "id": "tln9wRZbb1a0",
        "colab_type": "code",
        "outputId": "6935bb98-8ba1-49fa-d860-dae4b413f63b",
        "colab": {
          "base_uri": "https://localhost:8080/",
          "height": 35
        }
      },
      "source": [
        "pwd"
      ],
      "execution_count": 0,
      "outputs": [
        {
          "output_type": "execute_result",
          "data": {
            "text/plain": [
              "'/content'"
            ]
          },
          "metadata": {
            "tags": []
          },
          "execution_count": 11
        }
      ]
    },
    {
      "cell_type": "code",
      "metadata": {
        "id": "Xg3XJ77vb5OK",
        "colab_type": "code",
        "colab": {}
      },
      "source": [
        "data = pd.read_csv('/content/drive/My Drive/Colab Notebooks/data/train_ibk_title - train_ibk_title.csv')"
      ],
      "execution_count": 0,
      "outputs": []
    },
    {
      "cell_type": "code",
      "metadata": {
        "id": "CY3q2GzicHBt",
        "colab_type": "code",
        "outputId": "62a84b91-b79f-4753-d742-9a9d6a5a2616",
        "colab": {
          "base_uri": "https://localhost:8080/",
          "height": 419
        }
      },
      "source": [
        "data"
      ],
      "execution_count": 0,
      "outputs": [
        {
          "output_type": "execute_result",
          "data": {
            "text/html": [
              "<div>\n",
              "<style scoped>\n",
              "    .dataframe tbody tr th:only-of-type {\n",
              "        vertical-align: middle;\n",
              "    }\n",
              "\n",
              "    .dataframe tbody tr th {\n",
              "        vertical-align: top;\n",
              "    }\n",
              "\n",
              "    .dataframe thead th {\n",
              "        text-align: right;\n",
              "    }\n",
              "</style>\n",
              "<table border=\"1\" class=\"dataframe\">\n",
              "  <thead>\n",
              "    <tr style=\"text-align: right;\">\n",
              "      <th></th>\n",
              "      <th>headline</th>\n",
              "      <th>up/down</th>\n",
              "    </tr>\n",
              "  </thead>\n",
              "  <tbody>\n",
              "    <tr>\n",
              "      <th>0</th>\n",
              "      <td>와그트래블, 135억원 자금 확보…글로벌 공략 나선다</td>\n",
              "      <td>0</td>\n",
              "    </tr>\n",
              "    <tr>\n",
              "      <th>1</th>\n",
              "      <td>기업은행, 인도 IIT 경영전문대학과 인재양성 업무협약</td>\n",
              "      <td>0</td>\n",
              "    </tr>\n",
              "    <tr>\n",
              "      <th>2</th>\n",
              "      <td>기업은행, 인도 IIT 경영전문대학과 인재양성 업무협약 체결</td>\n",
              "      <td>0</td>\n",
              "    </tr>\n",
              "    <tr>\n",
              "      <th>3</th>\n",
              "      <td>[시장을 이겨라] \"반등하는 4월 장… 美 재무부 환율보고서·기업 실적 주목\"</td>\n",
              "      <td>0</td>\n",
              "    </tr>\n",
              "    <tr>\n",
              "      <th>4</th>\n",
              "      <td>미래에셋자산운용, 단기채권 투자·주식 페어트레이딩 ‘쌍끌이 전략’</td>\n",
              "      <td>0</td>\n",
              "    </tr>\n",
              "    <tr>\n",
              "      <th>...</th>\n",
              "      <td>...</td>\n",
              "      <td>...</td>\n",
              "    </tr>\n",
              "    <tr>\n",
              "      <th>11995</th>\n",
              "      <td>인사이드 스포츠 / 여자배구, 6구단이냐 4구단이냐</td>\n",
              "      <td>0</td>\n",
              "    </tr>\n",
              "    <tr>\n",
              "      <th>11996</th>\n",
              "      <td>새상품</td>\n",
              "      <td>1</td>\n",
              "    </tr>\n",
              "    <tr>\n",
              "      <th>11997</th>\n",
              "      <td>IT 봄바람은 계속된다</td>\n",
              "      <td>0</td>\n",
              "    </tr>\n",
              "    <tr>\n",
              "      <th>11998</th>\n",
              "      <td>IT 봄바람은 계속된다</td>\n",
              "      <td>0</td>\n",
              "    </tr>\n",
              "    <tr>\n",
              "      <th>11999</th>\n",
              "      <td>“자전거로 출퇴근하면 금리 더 드려요”</td>\n",
              "      <td>0</td>\n",
              "    </tr>\n",
              "  </tbody>\n",
              "</table>\n",
              "<p>12000 rows × 2 columns</p>\n",
              "</div>"
            ],
            "text/plain": [
              "                                          headline  up/down\n",
              "0                    와그트래블, 135억원 자금 확보…글로벌 공략 나선다        0\n",
              "1                   기업은행, 인도 IIT 경영전문대학과 인재양성 업무협약        0\n",
              "2                기업은행, 인도 IIT 경영전문대학과 인재양성 업무협약 체결        0\n",
              "3      [시장을 이겨라] \"반등하는 4월 장… 美 재무부 환율보고서·기업 실적 주목\"        0\n",
              "4             미래에셋자산운용, 단기채권 투자·주식 페어트레이딩 ‘쌍끌이 전략’        0\n",
              "...                                            ...      ...\n",
              "11995                 인사이드 스포츠 / 여자배구, 6구단이냐 4구단이냐        0\n",
              "11996                                          새상품        1\n",
              "11997                                 IT 봄바람은 계속된다        0\n",
              "11998                                 IT 봄바람은 계속된다        0\n",
              "11999                        “자전거로 출퇴근하면 금리 더 드려요”        0\n",
              "\n",
              "[12000 rows x 2 columns]"
            ]
          },
          "metadata": {
            "tags": []
          },
          "execution_count": 19
        }
      ]
    },
    {
      "cell_type": "code",
      "metadata": {
        "id": "OmtZ5YD9cIBU",
        "colab_type": "code",
        "colab": {}
      },
      "source": [
        ""
      ],
      "execution_count": 0,
      "outputs": []
    }
  ]
}